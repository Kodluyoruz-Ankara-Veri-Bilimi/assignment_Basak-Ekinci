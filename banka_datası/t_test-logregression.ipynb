{
 "cells": [
  {
   "cell_type": "markdown",
   "metadata": {},
   "source": [
    "# Data Defination"
   ]
  },
  {
   "cell_type": "markdown",
   "metadata": {},
   "source": [
    "![image](bank.png)\n",
    "UNT DataMining"
   ]
  },
  {
   "cell_type": "code",
   "execution_count": 44,
   "metadata": {},
   "outputs": [],
   "source": [
    "#import pandas\n",
    "import matplotlib.pyplot as plt\n",
    "import numpy as np\n",
    "import scipy.stats as st\n",
    "from scipy.stats import norm\n",
    "import seaborn as sns\n",
    "from scipy import stats\n",
    "import scipy\n",
    "import matplotlib.pyplot as plt\n",
    "import pandas as pd\n",
    "import numpy as np\n",
    "from scipy.stats import shapiro"
   ]
  },
  {
   "cell_type": "code",
   "execution_count": 2,
   "metadata": {},
   "outputs": [],
   "source": [
    "\n",
    "df = pd.read_csv(\"hmelq.csv\")"
   ]
  },
  {
   "cell_type": "code",
   "execution_count": 3,
   "metadata": {},
   "outputs": [
    {
     "data": {
      "text/html": [
       "<div>\n",
       "<style scoped>\n",
       "    .dataframe tbody tr th:only-of-type {\n",
       "        vertical-align: middle;\n",
       "    }\n",
       "\n",
       "    .dataframe tbody tr th {\n",
       "        vertical-align: top;\n",
       "    }\n",
       "\n",
       "    .dataframe thead th {\n",
       "        text-align: right;\n",
       "    }\n",
       "</style>\n",
       "<table border=\"1\" class=\"dataframe\">\n",
       "  <thead>\n",
       "    <tr style=\"text-align: right;\">\n",
       "      <th></th>\n",
       "      <th>bad</th>\n",
       "      <th>loan</th>\n",
       "      <th>mortdue</th>\n",
       "      <th>value</th>\n",
       "      <th>reason</th>\n",
       "      <th>job</th>\n",
       "      <th>yoj</th>\n",
       "      <th>derog</th>\n",
       "      <th>delinq</th>\n",
       "      <th>clage</th>\n",
       "      <th>ninq</th>\n",
       "      <th>clno</th>\n",
       "      <th>debtinc</th>\n",
       "    </tr>\n",
       "  </thead>\n",
       "  <tbody>\n",
       "    <tr>\n",
       "      <th>0</th>\n",
       "      <td>0</td>\n",
       "      <td>81200</td>\n",
       "      <td>18834.0</td>\n",
       "      <td>108355.0</td>\n",
       "      <td>HomeImp</td>\n",
       "      <td>NaN</td>\n",
       "      <td>28.0</td>\n",
       "      <td>0.0</td>\n",
       "      <td>0.0</td>\n",
       "      <td>139.14</td>\n",
       "      <td>0.0</td>\n",
       "      <td>14.0</td>\n",
       "      <td>34.042</td>\n",
       "    </tr>\n",
       "    <tr>\n",
       "      <th>1</th>\n",
       "      <td>0</td>\n",
       "      <td>12600</td>\n",
       "      <td>103960.0</td>\n",
       "      <td>127384.0</td>\n",
       "      <td>DebtCon</td>\n",
       "      <td>NaN</td>\n",
       "      <td>2.0</td>\n",
       "      <td>0.0</td>\n",
       "      <td>0.0</td>\n",
       "      <td>129.02</td>\n",
       "      <td>0.0</td>\n",
       "      <td>25.0</td>\n",
       "      <td>34.479</td>\n",
       "    </tr>\n",
       "    <tr>\n",
       "      <th>2</th>\n",
       "      <td>0</td>\n",
       "      <td>18000</td>\n",
       "      <td>46865.0</td>\n",
       "      <td>61266.0</td>\n",
       "      <td>DebtCon</td>\n",
       "      <td>NaN</td>\n",
       "      <td>5.0</td>\n",
       "      <td>0.0</td>\n",
       "      <td>0.0</td>\n",
       "      <td>102.59</td>\n",
       "      <td>2.0</td>\n",
       "      <td>9.0</td>\n",
       "      <td>26.354</td>\n",
       "    </tr>\n",
       "    <tr>\n",
       "      <th>3</th>\n",
       "      <td>0</td>\n",
       "      <td>10300</td>\n",
       "      <td>57676.0</td>\n",
       "      <td>71027.0</td>\n",
       "      <td>DebtCon</td>\n",
       "      <td>NaN</td>\n",
       "      <td>19.0</td>\n",
       "      <td>0.0</td>\n",
       "      <td>0.0</td>\n",
       "      <td>157.52</td>\n",
       "      <td>1.0</td>\n",
       "      <td>11.0</td>\n",
       "      <td>33.992</td>\n",
       "    </tr>\n",
       "    <tr>\n",
       "      <th>4</th>\n",
       "      <td>0</td>\n",
       "      <td>9400</td>\n",
       "      <td>56508.0</td>\n",
       "      <td>78358.0</td>\n",
       "      <td>DebtCon</td>\n",
       "      <td>NaN</td>\n",
       "      <td>17.0</td>\n",
       "      <td>0.0</td>\n",
       "      <td>0.0</td>\n",
       "      <td>141.93</td>\n",
       "      <td>0.0</td>\n",
       "      <td>11.0</td>\n",
       "      <td>32.327</td>\n",
       "    </tr>\n",
       "  </tbody>\n",
       "</table>\n",
       "</div>"
      ],
      "text/plain": [
       "   bad   loan   mortdue     value   reason  job   yoj  derog  delinq   clage  \\\n",
       "0    0  81200   18834.0  108355.0  HomeImp  NaN  28.0    0.0     0.0  139.14   \n",
       "1    0  12600  103960.0  127384.0  DebtCon  NaN   2.0    0.0     0.0  129.02   \n",
       "2    0  18000   46865.0   61266.0  DebtCon  NaN   5.0    0.0     0.0  102.59   \n",
       "3    0  10300   57676.0   71027.0  DebtCon  NaN  19.0    0.0     0.0  157.52   \n",
       "4    0   9400   56508.0   78358.0  DebtCon  NaN  17.0    0.0     0.0  141.93   \n",
       "\n",
       "   ninq  clno  debtinc  \n",
       "0   0.0  14.0   34.042  \n",
       "1   0.0  25.0   34.479  \n",
       "2   2.0   9.0   26.354  \n",
       "3   1.0  11.0   33.992  \n",
       "4   0.0  11.0   32.327  "
      ]
     },
     "execution_count": 3,
     "metadata": {},
     "output_type": "execute_result"
    }
   ],
   "source": [
    "df.head(5) # to see the first 5 rows of dataset"
   ]
  },
  {
   "cell_type": "code",
   "execution_count": 4,
   "metadata": {},
   "outputs": [
    {
     "data": {
      "text/plain": [
       "(3576, 13)"
      ]
     },
     "execution_count": 4,
     "metadata": {},
     "output_type": "execute_result"
    }
   ],
   "source": [
    "df.shape #to look at the shape of the dataset"
   ]
  },
  {
   "cell_type": "markdown",
   "metadata": {},
   "source": [
    "It shows that the dataset has 3576 rows(observations) and 13 columns (variables/features)\n"
   ]
  },
  {
   "cell_type": "code",
   "execution_count": 8,
   "metadata": {},
   "outputs": [
    {
     "name": "stdout",
     "output_type": "stream",
     "text": [
      "reason :  2\n",
      "job :  6\n"
     ]
    }
   ],
   "source": [
    "for i in df.select_dtypes(include=[\"object\"]).columns:\n",
    "    print(i,\": \",df[i].value_counts().count())\n",
    "#information about the categoric values\n"
   ]
  },
  {
   "cell_type": "code",
   "execution_count": null,
   "metadata": {},
   "outputs": [],
   "source": []
  },
  {
   "cell_type": "code",
   "execution_count": 10,
   "metadata": {},
   "outputs": [
    {
     "name": "stdout",
     "output_type": "stream",
     "text": [
      "Numeric Column  : ['bad', 'loan', 'mortdue', 'value', 'yoj', 'derog', 'delinq', 'clage', 'ninq', 'clno', 'debtinc'] \n",
      "Categoric Column : ['reason', 'job']\n"
     ]
    }
   ],
   "source": [
    "name_of_col = list(df.columns)\n",
    "num_var_list = []\n",
    "str_var_list = []\n",
    "drop_col=[]\n",
    "\n",
    "str_var_list = name_of_col.copy()\n",
    "for var in name_of_col:\n",
    "    # check if column belongs to numeric type\n",
    "    if (df[var].dtypes in (np.int, np.int64, np.uint, np.int32, np.float,\n",
    "                            np.float64, np.float32, np.double)):\n",
    "        str_var_list.remove(var)\n",
    "        num_var_list.append(var)\n",
    "# drop the omit column from list\n",
    "for var in drop_col:\n",
    "    if var in str_var_list:\n",
    "        str_var_list.remove(var)\n",
    "    if var in num_var_list:\n",
    "        num_var_list.remove(var)\n",
    "\n",
    "print(\"Numeric Column  :\", num_var_list,\n",
    "      \"\\nCategoric Column :\", str_var_list)\n",
    "\n",
    "# which columns categoric or numeric."
   ]
  },
  {
   "cell_type": "code",
   "execution_count": 12,
   "metadata": {},
   "outputs": [
    {
     "name": "stdout",
     "output_type": "stream",
     "text": [
      "<class 'pandas.core.frame.DataFrame'>\n",
      "Int64Index: 2018 entries, 153 to 3549\n",
      "Data columns (total 13 columns):\n",
      " #   Column   Non-Null Count  Dtype  \n",
      "---  ------   --------------  -----  \n",
      " 0   bad      2018 non-null   int64  \n",
      " 1   loan     2018 non-null   int64  \n",
      " 2   mortdue  2018 non-null   float64\n",
      " 3   value    2018 non-null   float64\n",
      " 4   reason   2018 non-null   object \n",
      " 5   job      2018 non-null   object \n",
      " 6   yoj      2018 non-null   float64\n",
      " 7   derog    2018 non-null   float64\n",
      " 8   delinq   2018 non-null   float64\n",
      " 9   clage    2018 non-null   float64\n",
      " 10  ninq     2018 non-null   float64\n",
      " 11  clno     2018 non-null   float64\n",
      " 12  debtinc  2018 non-null   float64\n",
      "dtypes: float64(9), int64(2), object(2)\n",
      "memory usage: 220.7+ KB\n"
     ]
    }
   ],
   "source": [
    "df=df.dropna()\n",
    "#remove the non values\n",
    "df.info()"
   ]
  },
  {
   "cell_type": "markdown",
   "metadata": {},
   "source": [
    "# STATISTICAL INFORMATION"
   ]
  },
  {
   "cell_type": "code",
   "execution_count": 22,
   "metadata": {},
   "outputs": [
    {
     "data": {
      "text/html": [
       "<div>\n",
       "<style scoped>\n",
       "    .dataframe tbody tr th:only-of-type {\n",
       "        vertical-align: middle;\n",
       "    }\n",
       "\n",
       "    .dataframe tbody tr th {\n",
       "        vertical-align: top;\n",
       "    }\n",
       "\n",
       "    .dataframe thead th {\n",
       "        text-align: right;\n",
       "    }\n",
       "</style>\n",
       "<table border=\"1\" class=\"dataframe\">\n",
       "  <thead>\n",
       "    <tr style=\"text-align: right;\">\n",
       "      <th></th>\n",
       "      <th>count</th>\n",
       "      <th>mean</th>\n",
       "      <th>std</th>\n",
       "      <th>min</th>\n",
       "      <th>25%</th>\n",
       "      <th>50%</th>\n",
       "      <th>75%</th>\n",
       "      <th>max</th>\n",
       "    </tr>\n",
       "  </thead>\n",
       "  <tbody>\n",
       "    <tr>\n",
       "      <th>bad</th>\n",
       "      <td>2018.0</td>\n",
       "      <td>0.088206</td>\n",
       "      <td>0.283665</td>\n",
       "      <td>0.00</td>\n",
       "      <td>0.0000</td>\n",
       "      <td>0.000</td>\n",
       "      <td>0.0000</td>\n",
       "      <td>1.000</td>\n",
       "    </tr>\n",
       "    <tr>\n",
       "      <th>loan</th>\n",
       "      <td>2018.0</td>\n",
       "      <td>19010.257681</td>\n",
       "      <td>10768.607345</td>\n",
       "      <td>1700.00</td>\n",
       "      <td>12000.0000</td>\n",
       "      <td>16900.000</td>\n",
       "      <td>23600.0000</td>\n",
       "      <td>89900.000</td>\n",
       "    </tr>\n",
       "    <tr>\n",
       "      <th>mortdue</th>\n",
       "      <td>2018.0</td>\n",
       "      <td>76337.035183</td>\n",
       "      <td>44476.368189</td>\n",
       "      <td>5076.00</td>\n",
       "      <td>49577.2500</td>\n",
       "      <td>67595.000</td>\n",
       "      <td>92922.7500</td>\n",
       "      <td>399412.000</td>\n",
       "    </tr>\n",
       "    <tr>\n",
       "      <th>value</th>\n",
       "      <td>2018.0</td>\n",
       "      <td>106899.244797</td>\n",
       "      <td>54026.707096</td>\n",
       "      <td>23031.00</td>\n",
       "      <td>71287.2500</td>\n",
       "      <td>94514.000</td>\n",
       "      <td>121220.7500</td>\n",
       "      <td>512650.000</td>\n",
       "    </tr>\n",
       "    <tr>\n",
       "      <th>yoj</th>\n",
       "      <td>2018.0</td>\n",
       "      <td>9.003964</td>\n",
       "      <td>7.573012</td>\n",
       "      <td>0.00</td>\n",
       "      <td>3.0000</td>\n",
       "      <td>7.000</td>\n",
       "      <td>13.0000</td>\n",
       "      <td>41.000</td>\n",
       "    </tr>\n",
       "    <tr>\n",
       "      <th>derog</th>\n",
       "      <td>2018.0</td>\n",
       "      <td>0.150149</td>\n",
       "      <td>0.580421</td>\n",
       "      <td>0.00</td>\n",
       "      <td>0.0000</td>\n",
       "      <td>0.000</td>\n",
       "      <td>0.0000</td>\n",
       "      <td>10.000</td>\n",
       "    </tr>\n",
       "    <tr>\n",
       "      <th>delinq</th>\n",
       "      <td>2018.0</td>\n",
       "      <td>0.264123</td>\n",
       "      <td>0.789816</td>\n",
       "      <td>0.00</td>\n",
       "      <td>0.0000</td>\n",
       "      <td>0.000</td>\n",
       "      <td>0.0000</td>\n",
       "      <td>10.000</td>\n",
       "    </tr>\n",
       "    <tr>\n",
       "      <th>clage</th>\n",
       "      <td>2018.0</td>\n",
       "      <td>180.645020</td>\n",
       "      <td>84.420116</td>\n",
       "      <td>0.49</td>\n",
       "      <td>118.2050</td>\n",
       "      <td>176.670</td>\n",
       "      <td>229.6925</td>\n",
       "      <td>1168.230</td>\n",
       "    </tr>\n",
       "    <tr>\n",
       "      <th>ninq</th>\n",
       "      <td>2018.0</td>\n",
       "      <td>1.037661</td>\n",
       "      <td>1.578414</td>\n",
       "      <td>0.00</td>\n",
       "      <td>0.0000</td>\n",
       "      <td>0.000</td>\n",
       "      <td>2.0000</td>\n",
       "      <td>13.000</td>\n",
       "    </tr>\n",
       "    <tr>\n",
       "      <th>clno</th>\n",
       "      <td>2018.0</td>\n",
       "      <td>22.265114</td>\n",
       "      <td>9.457238</td>\n",
       "      <td>0.00</td>\n",
       "      <td>16.0000</td>\n",
       "      <td>21.000</td>\n",
       "      <td>27.0000</td>\n",
       "      <td>64.000</td>\n",
       "    </tr>\n",
       "    <tr>\n",
       "      <th>debtinc</th>\n",
       "      <td>2018.0</td>\n",
       "      <td>34.105829</td>\n",
       "      <td>8.438411</td>\n",
       "      <td>4.03</td>\n",
       "      <td>29.2955</td>\n",
       "      <td>34.949</td>\n",
       "      <td>38.9520</td>\n",
       "      <td>144.189</td>\n",
       "    </tr>\n",
       "  </tbody>\n",
       "</table>\n",
       "</div>"
      ],
      "text/plain": [
       "          count           mean           std       min         25%        50%  \\\n",
       "bad      2018.0       0.088206      0.283665      0.00      0.0000      0.000   \n",
       "loan     2018.0   19010.257681  10768.607345   1700.00  12000.0000  16900.000   \n",
       "mortdue  2018.0   76337.035183  44476.368189   5076.00  49577.2500  67595.000   \n",
       "value    2018.0  106899.244797  54026.707096  23031.00  71287.2500  94514.000   \n",
       "yoj      2018.0       9.003964      7.573012      0.00      3.0000      7.000   \n",
       "derog    2018.0       0.150149      0.580421      0.00      0.0000      0.000   \n",
       "delinq   2018.0       0.264123      0.789816      0.00      0.0000      0.000   \n",
       "clage    2018.0     180.645020     84.420116      0.49    118.2050    176.670   \n",
       "ninq     2018.0       1.037661      1.578414      0.00      0.0000      0.000   \n",
       "clno     2018.0      22.265114      9.457238      0.00     16.0000     21.000   \n",
       "debtinc  2018.0      34.105829      8.438411      4.03     29.2955     34.949   \n",
       "\n",
       "                 75%         max  \n",
       "bad           0.0000       1.000  \n",
       "loan      23600.0000   89900.000  \n",
       "mortdue   92922.7500  399412.000  \n",
       "value    121220.7500  512650.000  \n",
       "yoj          13.0000      41.000  \n",
       "derog         0.0000      10.000  \n",
       "delinq        0.0000      10.000  \n",
       "clage       229.6925    1168.230  \n",
       "ninq          2.0000      13.000  \n",
       "clno         27.0000      64.000  \n",
       "debtinc      38.9520     144.189  "
      ]
     },
     "execution_count": 22,
     "metadata": {},
     "output_type": "execute_result"
    }
   ],
   "source": [
    "desc_df = df.describe().T\n",
    "#range = df.max() - df.min()\n",
    "\n",
    "#range = df.max() - df.min()\n",
    "#null_count = data.isnull().sum()\n",
    "#null_percent = (data.isnull().sum() / data.count())*100\n",
    "#variance = data.var()\n",
    "\n",
    "#desc_df[\"range\"] = round(range,3)\n",
    "desc_df# to get the basic summary of all the numeric columns and frequency distribution of all the categorical columns.\n"
   ]
  },
  {
   "cell_type": "code",
   "execution_count": 23,
   "metadata": {},
   "outputs": [
    {
     "data": {
      "text/plain": [
       "bad          int64\n",
       "loan         int64\n",
       "mortdue    float64\n",
       "value      float64\n",
       "reason      object\n",
       "job         object\n",
       "yoj        float64\n",
       "derog      float64\n",
       "delinq     float64\n",
       "clage      float64\n",
       "ninq       float64\n",
       "clno       float64\n",
       "debtinc    float64\n",
       "dtype: object"
      ]
     },
     "execution_count": 23,
     "metadata": {},
     "output_type": "execute_result"
    }
   ],
   "source": [
    "data_types=df.dtypes #to print data types for each variable\n",
    "data_types"
   ]
  },
  {
   "cell_type": "code",
   "execution_count": null,
   "metadata": {},
   "outputs": [],
   "source": [
    "#Missing values"
   ]
  },
  {
   "cell_type": "code",
   "execution_count": 24,
   "metadata": {},
   "outputs": [
    {
     "data": {
      "text/html": [
       "<div>\n",
       "<style scoped>\n",
       "    .dataframe tbody tr th:only-of-type {\n",
       "        vertical-align: middle;\n",
       "    }\n",
       "\n",
       "    .dataframe tbody tr th {\n",
       "        vertical-align: top;\n",
       "    }\n",
       "\n",
       "    .dataframe thead th {\n",
       "        text-align: right;\n",
       "    }\n",
       "</style>\n",
       "<table border=\"1\" class=\"dataframe\">\n",
       "  <thead>\n",
       "    <tr style=\"text-align: right;\">\n",
       "      <th></th>\n",
       "      <th>Variables</th>\n",
       "      <th>Missing Values</th>\n",
       "    </tr>\n",
       "  </thead>\n",
       "  <tbody>\n",
       "    <tr>\n",
       "      <th>0</th>\n",
       "      <td>bad</td>\n",
       "      <td>0</td>\n",
       "    </tr>\n",
       "    <tr>\n",
       "      <th>1</th>\n",
       "      <td>loan</td>\n",
       "      <td>0</td>\n",
       "    </tr>\n",
       "    <tr>\n",
       "      <th>2</th>\n",
       "      <td>mortdue</td>\n",
       "      <td>0</td>\n",
       "    </tr>\n",
       "    <tr>\n",
       "      <th>3</th>\n",
       "      <td>value</td>\n",
       "      <td>0</td>\n",
       "    </tr>\n",
       "    <tr>\n",
       "      <th>4</th>\n",
       "      <td>reason</td>\n",
       "      <td>0</td>\n",
       "    </tr>\n",
       "    <tr>\n",
       "      <th>5</th>\n",
       "      <td>job</td>\n",
       "      <td>0</td>\n",
       "    </tr>\n",
       "    <tr>\n",
       "      <th>6</th>\n",
       "      <td>yoj</td>\n",
       "      <td>0</td>\n",
       "    </tr>\n",
       "    <tr>\n",
       "      <th>7</th>\n",
       "      <td>derog</td>\n",
       "      <td>0</td>\n",
       "    </tr>\n",
       "    <tr>\n",
       "      <th>8</th>\n",
       "      <td>delinq</td>\n",
       "      <td>0</td>\n",
       "    </tr>\n",
       "    <tr>\n",
       "      <th>9</th>\n",
       "      <td>clage</td>\n",
       "      <td>0</td>\n",
       "    </tr>\n",
       "    <tr>\n",
       "      <th>10</th>\n",
       "      <td>ninq</td>\n",
       "      <td>0</td>\n",
       "    </tr>\n",
       "    <tr>\n",
       "      <th>11</th>\n",
       "      <td>clno</td>\n",
       "      <td>0</td>\n",
       "    </tr>\n",
       "    <tr>\n",
       "      <th>12</th>\n",
       "      <td>debtinc</td>\n",
       "      <td>0</td>\n",
       "    </tr>\n",
       "  </tbody>\n",
       "</table>\n",
       "</div>"
      ],
      "text/plain": [
       "   Variables  Missing Values\n",
       "0        bad               0\n",
       "1       loan               0\n",
       "2    mortdue               0\n",
       "3      value               0\n",
       "4     reason               0\n",
       "5        job               0\n",
       "6        yoj               0\n",
       "7      derog               0\n",
       "8     delinq               0\n",
       "9      clage               0\n",
       "10      ninq               0\n",
       "11      clno               0\n",
       "12   debtinc               0"
      ]
     },
     "execution_count": 24,
     "metadata": {},
     "output_type": "execute_result"
    }
   ],
   "source": [
    "MissingData=df.isnull().sum().rename_axis('Variables').reset_index(name='Missing Values') # the isnull() returns 1 if the value is null\n",
    "MissingData"
   ]
  },
  {
   "cell_type": "code",
   "execution_count": 25,
   "metadata": {},
   "outputs": [
    {
     "data": {
      "text/html": [
       "<div>\n",
       "<style scoped>\n",
       "    .dataframe tbody tr th:only-of-type {\n",
       "        vertical-align: middle;\n",
       "    }\n",
       "\n",
       "    .dataframe tbody tr th {\n",
       "        vertical-align: top;\n",
       "    }\n",
       "\n",
       "    .dataframe thead th {\n",
       "        text-align: right;\n",
       "    }\n",
       "</style>\n",
       "<table border=\"1\" class=\"dataframe\">\n",
       "  <thead>\n",
       "    <tr style=\"text-align: right;\">\n",
       "      <th></th>\n",
       "      <th>bad</th>\n",
       "      <th>loan</th>\n",
       "      <th>mortdue</th>\n",
       "      <th>value</th>\n",
       "      <th>reason</th>\n",
       "      <th>job</th>\n",
       "      <th>yoj</th>\n",
       "      <th>derog</th>\n",
       "      <th>delinq</th>\n",
       "      <th>clage</th>\n",
       "      <th>ninq</th>\n",
       "      <th>clno</th>\n",
       "      <th>debtinc</th>\n",
       "    </tr>\n",
       "  </thead>\n",
       "  <tbody>\n",
       "    <tr>\n",
       "      <th>153</th>\n",
       "      <td>0</td>\n",
       "      <td>18200</td>\n",
       "      <td>94727.0</td>\n",
       "      <td>136877.0</td>\n",
       "      <td>DebtCon</td>\n",
       "      <td>Mgr</td>\n",
       "      <td>15.0</td>\n",
       "      <td>0.0</td>\n",
       "      <td>0.0</td>\n",
       "      <td>168.96</td>\n",
       "      <td>2.0</td>\n",
       "      <td>26.0</td>\n",
       "      <td>36.056</td>\n",
       "    </tr>\n",
       "    <tr>\n",
       "      <th>154</th>\n",
       "      <td>0</td>\n",
       "      <td>21700</td>\n",
       "      <td>79240.0</td>\n",
       "      <td>96784.0</td>\n",
       "      <td>DebtCon</td>\n",
       "      <td>Mgr</td>\n",
       "      <td>5.0</td>\n",
       "      <td>0.0</td>\n",
       "      <td>0.0</td>\n",
       "      <td>64.51</td>\n",
       "      <td>6.0</td>\n",
       "      <td>24.0</td>\n",
       "      <td>38.079</td>\n",
       "    </tr>\n",
       "    <tr>\n",
       "      <th>155</th>\n",
       "      <td>0</td>\n",
       "      <td>34100</td>\n",
       "      <td>241931.0</td>\n",
       "      <td>36486.0</td>\n",
       "      <td>DebtCon</td>\n",
       "      <td>Mgr</td>\n",
       "      <td>1.0</td>\n",
       "      <td>0.0</td>\n",
       "      <td>2.0</td>\n",
       "      <td>196.01</td>\n",
       "      <td>3.0</td>\n",
       "      <td>50.0</td>\n",
       "      <td>42.459</td>\n",
       "    </tr>\n",
       "    <tr>\n",
       "      <th>156</th>\n",
       "      <td>0</td>\n",
       "      <td>8400</td>\n",
       "      <td>62989.0</td>\n",
       "      <td>76718.0</td>\n",
       "      <td>HomeImp</td>\n",
       "      <td>Mgr</td>\n",
       "      <td>3.0</td>\n",
       "      <td>0.0</td>\n",
       "      <td>2.0</td>\n",
       "      <td>131.47</td>\n",
       "      <td>0.0</td>\n",
       "      <td>22.0</td>\n",
       "      <td>29.200</td>\n",
       "    </tr>\n",
       "    <tr>\n",
       "      <th>157</th>\n",
       "      <td>0</td>\n",
       "      <td>17400</td>\n",
       "      <td>25859.0</td>\n",
       "      <td>43684.0</td>\n",
       "      <td>DebtCon</td>\n",
       "      <td>Mgr</td>\n",
       "      <td>16.0</td>\n",
       "      <td>1.0</td>\n",
       "      <td>0.0</td>\n",
       "      <td>95.36</td>\n",
       "      <td>1.0</td>\n",
       "      <td>17.0</td>\n",
       "      <td>27.108</td>\n",
       "    </tr>\n",
       "    <tr>\n",
       "      <th>...</th>\n",
       "      <td>...</td>\n",
       "      <td>...</td>\n",
       "      <td>...</td>\n",
       "      <td>...</td>\n",
       "      <td>...</td>\n",
       "      <td>...</td>\n",
       "      <td>...</td>\n",
       "      <td>...</td>\n",
       "      <td>...</td>\n",
       "      <td>...</td>\n",
       "      <td>...</td>\n",
       "      <td>...</td>\n",
       "      <td>...</td>\n",
       "    </tr>\n",
       "    <tr>\n",
       "      <th>3544</th>\n",
       "      <td>1</td>\n",
       "      <td>7200</td>\n",
       "      <td>15637.0</td>\n",
       "      <td>39660.0</td>\n",
       "      <td>HomeImp</td>\n",
       "      <td>Self</td>\n",
       "      <td>6.0</td>\n",
       "      <td>0.0</td>\n",
       "      <td>1.0</td>\n",
       "      <td>354.24</td>\n",
       "      <td>3.0</td>\n",
       "      <td>42.0</td>\n",
       "      <td>33.624</td>\n",
       "    </tr>\n",
       "    <tr>\n",
       "      <th>3546</th>\n",
       "      <td>1</td>\n",
       "      <td>53400</td>\n",
       "      <td>228236.0</td>\n",
       "      <td>305514.0</td>\n",
       "      <td>HomeImp</td>\n",
       "      <td>Self</td>\n",
       "      <td>6.0</td>\n",
       "      <td>0.0</td>\n",
       "      <td>0.0</td>\n",
       "      <td>11.15</td>\n",
       "      <td>0.0</td>\n",
       "      <td>2.0</td>\n",
       "      <td>34.558</td>\n",
       "    </tr>\n",
       "    <tr>\n",
       "      <th>3547</th>\n",
       "      <td>1</td>\n",
       "      <td>27300</td>\n",
       "      <td>106221.0</td>\n",
       "      <td>137727.0</td>\n",
       "      <td>DebtCon</td>\n",
       "      <td>Self</td>\n",
       "      <td>3.0</td>\n",
       "      <td>0.0</td>\n",
       "      <td>0.0</td>\n",
       "      <td>300.57</td>\n",
       "      <td>3.0</td>\n",
       "      <td>45.0</td>\n",
       "      <td>32.560</td>\n",
       "    </tr>\n",
       "    <tr>\n",
       "      <th>3548</th>\n",
       "      <td>1</td>\n",
       "      <td>37300</td>\n",
       "      <td>68789.0</td>\n",
       "      <td>86172.0</td>\n",
       "      <td>HomeImp</td>\n",
       "      <td>Self</td>\n",
       "      <td>2.0</td>\n",
       "      <td>0.0</td>\n",
       "      <td>6.0</td>\n",
       "      <td>235.64</td>\n",
       "      <td>2.0</td>\n",
       "      <td>25.0</td>\n",
       "      <td>114.051</td>\n",
       "    </tr>\n",
       "    <tr>\n",
       "      <th>3549</th>\n",
       "      <td>1</td>\n",
       "      <td>13300</td>\n",
       "      <td>25698.0</td>\n",
       "      <td>58760.0</td>\n",
       "      <td>HomeImp</td>\n",
       "      <td>Self</td>\n",
       "      <td>15.0</td>\n",
       "      <td>0.0</td>\n",
       "      <td>0.0</td>\n",
       "      <td>147.91</td>\n",
       "      <td>1.0</td>\n",
       "      <td>10.0</td>\n",
       "      <td>30.962</td>\n",
       "    </tr>\n",
       "  </tbody>\n",
       "</table>\n",
       "<p>2018 rows × 13 columns</p>\n",
       "</div>"
      ],
      "text/plain": [
       "      bad   loan   mortdue     value   reason   job   yoj  derog  delinq  \\\n",
       "153     0  18200   94727.0  136877.0  DebtCon   Mgr  15.0    0.0     0.0   \n",
       "154     0  21700   79240.0   96784.0  DebtCon   Mgr   5.0    0.0     0.0   \n",
       "155     0  34100  241931.0   36486.0  DebtCon   Mgr   1.0    0.0     2.0   \n",
       "156     0   8400   62989.0   76718.0  HomeImp   Mgr   3.0    0.0     2.0   \n",
       "157     0  17400   25859.0   43684.0  DebtCon   Mgr  16.0    1.0     0.0   \n",
       "...   ...    ...       ...       ...      ...   ...   ...    ...     ...   \n",
       "3544    1   7200   15637.0   39660.0  HomeImp  Self   6.0    0.0     1.0   \n",
       "3546    1  53400  228236.0  305514.0  HomeImp  Self   6.0    0.0     0.0   \n",
       "3547    1  27300  106221.0  137727.0  DebtCon  Self   3.0    0.0     0.0   \n",
       "3548    1  37300   68789.0   86172.0  HomeImp  Self   2.0    0.0     6.0   \n",
       "3549    1  13300   25698.0   58760.0  HomeImp  Self  15.0    0.0     0.0   \n",
       "\n",
       "       clage  ninq  clno  debtinc  \n",
       "153   168.96   2.0  26.0   36.056  \n",
       "154    64.51   6.0  24.0   38.079  \n",
       "155   196.01   3.0  50.0   42.459  \n",
       "156   131.47   0.0  22.0   29.200  \n",
       "157    95.36   1.0  17.0   27.108  \n",
       "...      ...   ...   ...      ...  \n",
       "3544  354.24   3.0  42.0   33.624  \n",
       "3546   11.15   0.0   2.0   34.558  \n",
       "3547  300.57   3.0  45.0   32.560  \n",
       "3548  235.64   2.0  25.0  114.051  \n",
       "3549  147.91   1.0  10.0   30.962  \n",
       "\n",
       "[2018 rows x 13 columns]"
      ]
     },
     "execution_count": 25,
     "metadata": {},
     "output_type": "execute_result"
    }
   ],
   "source": [
    "#dropping rows that have missing data\n",
    "df.dropna(axis=0, how='any', inplace=True)\n",
    "df"
   ]
  },
  {
   "cell_type": "markdown",
   "metadata": {},
   "source": [
    "# Exploratory Data Analysis (EDA)"
   ]
  },
  {
   "cell_type": "markdown",
   "metadata": {},
   "source": [
    "In this analysis we examine each variable individually. For categorical features we can use bar plots which calculates the total count of each category in a particular variable. For numerical features we can use histograms or density plots."
   ]
  },
  {
   "cell_type": "code",
   "execution_count": 27,
   "metadata": {},
   "outputs": [
    {
     "data": {
      "image/png": "[encoded data removed]",
      "text/plain": [
       "<Figure size 1728x432 with 1 Axes>"
      ]
     },
     "metadata": {
      "needs_background": "light"
     },
     "output_type": "display_data"
    }
   ],
   "source": [
    "plt.figure(figsize=(24,6))\n",
    "df.boxplot()\n",
    "plt.show()"
   ]
  },
  {
   "cell_type": "markdown",
   "metadata": {},
   "source": [
    " Loan, Mortdue ve value\n",
    " \n",
    " some of the columns in X have large variance in the numeric data in them so standard scaling is done to normalize them, they are have outlier values. "
   ]
  },
  {
   "cell_type": "code",
   "execution_count": 29,
   "metadata": {},
   "outputs": [
    {
     "data": {
      "image/png": "[encoded data removed]",
      "text/plain": [
       "<Figure size 720x576 with 1 Axes>"
      ]
     },
     "metadata": {
      "needs_background": "light"
     },
     "output_type": "display_data"
    }
   ],
   "source": [
    "plt.figure(figsize=(10,8))\n",
    "boxplot_df = df[[\"loan\", \"mortdue\",\"value\"]]\n",
    "boxplot_df.boxplot()\n",
    "plt.show()"
   ]
  },
  {
   "cell_type": "code",
   "execution_count": 31,
   "metadata": {},
   "outputs": [
    {
     "data": {
      "image/png": "[encoded data removed]",
      "text/plain": [
       "<Figure size 1728x1152 with 9 Axes>"
      ]
     },
     "metadata": {
      "needs_background": "light"
     },
     "output_type": "display_data"
    }
   ],
   "source": [
    "data2 = df.drop([\"bad\", \"derog\"], axis=1)\n",
    "data2.hist(figsize=(24,16), bins=40, xlabelsize=6, ylabelsize=6)\n",
    "plt.show()"
   ]
  },
  {
   "cell_type": "markdown",
   "metadata": {},
   "source": [
    "When Dno, loan, mortdue, clage, yoj variables show  almost the gaussian distribution, others show the left skewed distribution\n",
    "\n"
   ]
  },
  {
   "cell_type": "code",
   "execution_count": 35,
   "metadata": {},
   "outputs": [
    {
     "data": {
      "text/plain": [
       "<matplotlib.axes._subplots.AxesSubplot at 0x7fb112005d90>"
      ]
     },
     "execution_count": 35,
     "metadata": {},
     "output_type": "execute_result"
    },
    {
     "data": {
      "image/png": "[encoded data removed]",
      "text/plain": [
       "<Figure size 432x288 with 1 Axes>"
      ]
     },
     "metadata": {
      "needs_background": "light"
     },
     "output_type": "display_data"
    }
   ],
   "source": [
    "sns.countplot(x=\"bad\", data=df)"
   ]
  },
  {
   "cell_type": "code",
   "execution_count": 32,
   "metadata": {},
   "outputs": [
    {
     "data": {
      "text/plain": [
       "<matplotlib.axes._subplots.AxesSubplot at 0x7fb112270150>"
      ]
     },
     "execution_count": 32,
     "metadata": {},
     "output_type": "execute_result"
    },
    {
     "data": {
      "image/png": "[encoded data removed]",
      "text/plain": [
       "<Figure size 432x288 with 1 Axes>"
      ]
     },
     "metadata": {
      "needs_background": "light"
     },
     "output_type": "display_data"
    }
   ],
   "source": [
    "#Frequency distribution of target variable \"BAD\" and visualizing the target variable\n",
    "df[\"bad\"].value_counts().plot.bar(title='bad')"
   ]
  },
  {
   "cell_type": "code",
   "execution_count": 33,
   "metadata": {},
   "outputs": [
    {
     "data": {
      "text/plain": [
       "<matplotlib.axes._subplots.AxesSubplot at 0x7fb111891790>"
      ]
     },
     "execution_count": 33,
     "metadata": {},
     "output_type": "execute_result"
    },
    {
     "data": {
      "image/png": "[encoded data removed]",
      "text/plain": [
       "<Figure size 432x288 with 1 Axes>"
      ]
     },
     "metadata": {
      "needs_background": "light"
     },
     "output_type": "display_data"
    }
   ],
   "source": [
    "#visualizing the categorical variable REASON\n",
    "REASON_count= df[\"reason\"].value_counts().rename_axis('reason').reset_index(name='Total Count')\n",
    "df[\"reason\"].value_counts().plot.bar(title='reason')"
   ]
  },
  {
   "cell_type": "code",
   "execution_count": 36,
   "metadata": {},
   "outputs": [
    {
     "data": {
      "text/plain": [
       "<matplotlib.axes._subplots.AxesSubplot at 0x7fb111f84b50>"
      ]
     },
     "execution_count": 36,
     "metadata": {},
     "output_type": "execute_result"
    },
    {
     "data": {
      "image/png": "[encoded data removed]",
      "text/plain": [
       "<Figure size 432x288 with 1 Axes>"
      ]
     },
     "metadata": {
      "needs_background": "light"
     },
     "output_type": "display_data"
    }
   ],
   "source": [
    "#visualizing the categorical variable JOB\n",
    "JOB_count= df[\"job\"].value_counts().rename_axis('job').reset_index(name='Total Count')\n",
    "df[\"job\"].value_counts().plot.bar(title='job')"
   ]
  },
  {
   "cell_type": "code",
   "execution_count": 37,
   "metadata": {},
   "outputs": [
    {
     "data": {
      "image/png": "[encoded data removed]",
      "text/plain": [
       "<Figure size 720x576 with 2 Axes>"
      ]
     },
     "metadata": {
      "needs_background": "light"
     },
     "output_type": "display_data"
    }
   ],
   "source": [
    "#Create Correlation matrix\n",
    "corr = df.corr()\n",
    "#Plot figsize\n",
    "fig, ax = plt.subplots(figsize=(10,8))\n",
    "#Generate Color Map\n",
    "colormap = sns.diverging_palette(220, 10, as_cmap=True)\n",
    "#Generate Heat Map, allow annotations and place floats in map\n",
    "sns.heatmap(corr, cmap=colormap, annot=True, fmt=\".2f\")\n",
    "#Apply xticks\n",
    "plt.xticks(range(len(corr.columns)), corr.columns);\n",
    "#Apply yticks\n",
    "plt.yticks(range(len(corr.columns)), corr.columns)\n",
    "#show plot\n",
    "plt.show()"
   ]
  },
  {
   "cell_type": "markdown",
   "metadata": {},
   "source": [
    "This correlation matrix shows the correlation between all the numeric variables.\n",
    "\n",
    "The interesting correlation that we can see is that BAD (target variable) is positively correlated with DELINQ, DEROG and DEBTINC\n"
   ]
  },
  {
   "cell_type": "markdown",
   "metadata": {},
   "source": [
    "# Data Preprocessing\n"
   ]
  },
  {
   "cell_type": "markdown",
   "metadata": {},
   "source": [
    "\n",
    "\n",
    "Encoding\n",
    "\n",
    "As many of the Machine Learning models takes only the numerical values as input so we have to convert categorical columns to numeric Dummy variable turns categorical variables into a series of 0 and 1, making them much easier to compare"
   ]
  },
  {
   "cell_type": "code",
   "execution_count": 38,
   "metadata": {},
   "outputs": [
    {
     "data": {
      "text/html": [
       "<div>\n",
       "<style scoped>\n",
       "    .dataframe tbody tr th:only-of-type {\n",
       "        vertical-align: middle;\n",
       "    }\n",
       "\n",
       "    .dataframe tbody tr th {\n",
       "        vertical-align: top;\n",
       "    }\n",
       "\n",
       "    .dataframe thead th {\n",
       "        text-align: right;\n",
       "    }\n",
       "</style>\n",
       "<table border=\"1\" class=\"dataframe\">\n",
       "  <thead>\n",
       "    <tr style=\"text-align: right;\">\n",
       "      <th></th>\n",
       "      <th>bad</th>\n",
       "      <th>loan</th>\n",
       "      <th>mortdue</th>\n",
       "      <th>value</th>\n",
       "      <th>yoj</th>\n",
       "      <th>derog</th>\n",
       "      <th>delinq</th>\n",
       "      <th>clage</th>\n",
       "      <th>ninq</th>\n",
       "      <th>clno</th>\n",
       "      <th>debtinc</th>\n",
       "      <th>reason_DebtCon</th>\n",
       "      <th>reason_HomeImp</th>\n",
       "      <th>job_Mgr</th>\n",
       "      <th>job_Office</th>\n",
       "      <th>job_Other</th>\n",
       "      <th>job_ProfEx</th>\n",
       "      <th>job_Sales</th>\n",
       "      <th>job_Self</th>\n",
       "    </tr>\n",
       "  </thead>\n",
       "  <tbody>\n",
       "    <tr>\n",
       "      <th>153</th>\n",
       "      <td>0</td>\n",
       "      <td>18200</td>\n",
       "      <td>94727.0</td>\n",
       "      <td>136877.0</td>\n",
       "      <td>15.0</td>\n",
       "      <td>0.0</td>\n",
       "      <td>0.0</td>\n",
       "      <td>168.96</td>\n",
       "      <td>2.0</td>\n",
       "      <td>26.0</td>\n",
       "      <td>36.056</td>\n",
       "      <td>1</td>\n",
       "      <td>0</td>\n",
       "      <td>1</td>\n",
       "      <td>0</td>\n",
       "      <td>0</td>\n",
       "      <td>0</td>\n",
       "      <td>0</td>\n",
       "      <td>0</td>\n",
       "    </tr>\n",
       "    <tr>\n",
       "      <th>154</th>\n",
       "      <td>0</td>\n",
       "      <td>21700</td>\n",
       "      <td>79240.0</td>\n",
       "      <td>96784.0</td>\n",
       "      <td>5.0</td>\n",
       "      <td>0.0</td>\n",
       "      <td>0.0</td>\n",
       "      <td>64.51</td>\n",
       "      <td>6.0</td>\n",
       "      <td>24.0</td>\n",
       "      <td>38.079</td>\n",
       "      <td>1</td>\n",
       "      <td>0</td>\n",
       "      <td>1</td>\n",
       "      <td>0</td>\n",
       "      <td>0</td>\n",
       "      <td>0</td>\n",
       "      <td>0</td>\n",
       "      <td>0</td>\n",
       "    </tr>\n",
       "    <tr>\n",
       "      <th>155</th>\n",
       "      <td>0</td>\n",
       "      <td>34100</td>\n",
       "      <td>241931.0</td>\n",
       "      <td>36486.0</td>\n",
       "      <td>1.0</td>\n",
       "      <td>0.0</td>\n",
       "      <td>2.0</td>\n",
       "      <td>196.01</td>\n",
       "      <td>3.0</td>\n",
       "      <td>50.0</td>\n",
       "      <td>42.459</td>\n",
       "      <td>1</td>\n",
       "      <td>0</td>\n",
       "      <td>1</td>\n",
       "      <td>0</td>\n",
       "      <td>0</td>\n",
       "      <td>0</td>\n",
       "      <td>0</td>\n",
       "      <td>0</td>\n",
       "    </tr>\n",
       "    <tr>\n",
       "      <th>156</th>\n",
       "      <td>0</td>\n",
       "      <td>8400</td>\n",
       "      <td>62989.0</td>\n",
       "      <td>76718.0</td>\n",
       "      <td>3.0</td>\n",
       "      <td>0.0</td>\n",
       "      <td>2.0</td>\n",
       "      <td>131.47</td>\n",
       "      <td>0.0</td>\n",
       "      <td>22.0</td>\n",
       "      <td>29.200</td>\n",
       "      <td>0</td>\n",
       "      <td>1</td>\n",
       "      <td>1</td>\n",
       "      <td>0</td>\n",
       "      <td>0</td>\n",
       "      <td>0</td>\n",
       "      <td>0</td>\n",
       "      <td>0</td>\n",
       "    </tr>\n",
       "    <tr>\n",
       "      <th>157</th>\n",
       "      <td>0</td>\n",
       "      <td>17400</td>\n",
       "      <td>25859.0</td>\n",
       "      <td>43684.0</td>\n",
       "      <td>16.0</td>\n",
       "      <td>1.0</td>\n",
       "      <td>0.0</td>\n",
       "      <td>95.36</td>\n",
       "      <td>1.0</td>\n",
       "      <td>17.0</td>\n",
       "      <td>27.108</td>\n",
       "      <td>1</td>\n",
       "      <td>0</td>\n",
       "      <td>1</td>\n",
       "      <td>0</td>\n",
       "      <td>0</td>\n",
       "      <td>0</td>\n",
       "      <td>0</td>\n",
       "      <td>0</td>\n",
       "    </tr>\n",
       "    <tr>\n",
       "      <th>...</th>\n",
       "      <td>...</td>\n",
       "      <td>...</td>\n",
       "      <td>...</td>\n",
       "      <td>...</td>\n",
       "      <td>...</td>\n",
       "      <td>...</td>\n",
       "      <td>...</td>\n",
       "      <td>...</td>\n",
       "      <td>...</td>\n",
       "      <td>...</td>\n",
       "      <td>...</td>\n",
       "      <td>...</td>\n",
       "      <td>...</td>\n",
       "      <td>...</td>\n",
       "      <td>...</td>\n",
       "      <td>...</td>\n",
       "      <td>...</td>\n",
       "      <td>...</td>\n",
       "      <td>...</td>\n",
       "    </tr>\n",
       "    <tr>\n",
       "      <th>3544</th>\n",
       "      <td>1</td>\n",
       "      <td>7200</td>\n",
       "      <td>15637.0</td>\n",
       "      <td>39660.0</td>\n",
       "      <td>6.0</td>\n",
       "      <td>0.0</td>\n",
       "      <td>1.0</td>\n",
       "      <td>354.24</td>\n",
       "      <td>3.0</td>\n",
       "      <td>42.0</td>\n",
       "      <td>33.624</td>\n",
       "      <td>0</td>\n",
       "      <td>1</td>\n",
       "      <td>0</td>\n",
       "      <td>0</td>\n",
       "      <td>0</td>\n",
       "      <td>0</td>\n",
       "      <td>0</td>\n",
       "      <td>1</td>\n",
       "    </tr>\n",
       "    <tr>\n",
       "      <th>3546</th>\n",
       "      <td>1</td>\n",
       "      <td>53400</td>\n",
       "      <td>228236.0</td>\n",
       "      <td>305514.0</td>\n",
       "      <td>6.0</td>\n",
       "      <td>0.0</td>\n",
       "      <td>0.0</td>\n",
       "      <td>11.15</td>\n",
       "      <td>0.0</td>\n",
       "      <td>2.0</td>\n",
       "      <td>34.558</td>\n",
       "      <td>0</td>\n",
       "      <td>1</td>\n",
       "      <td>0</td>\n",
       "      <td>0</td>\n",
       "      <td>0</td>\n",
       "      <td>0</td>\n",
       "      <td>0</td>\n",
       "      <td>1</td>\n",
       "    </tr>\n",
       "    <tr>\n",
       "      <th>3547</th>\n",
       "      <td>1</td>\n",
       "      <td>27300</td>\n",
       "      <td>106221.0</td>\n",
       "      <td>137727.0</td>\n",
       "      <td>3.0</td>\n",
       "      <td>0.0</td>\n",
       "      <td>0.0</td>\n",
       "      <td>300.57</td>\n",
       "      <td>3.0</td>\n",
       "      <td>45.0</td>\n",
       "      <td>32.560</td>\n",
       "      <td>1</td>\n",
       "      <td>0</td>\n",
       "      <td>0</td>\n",
       "      <td>0</td>\n",
       "      <td>0</td>\n",
       "      <td>0</td>\n",
       "      <td>0</td>\n",
       "      <td>1</td>\n",
       "    </tr>\n",
       "    <tr>\n",
       "      <th>3548</th>\n",
       "      <td>1</td>\n",
       "      <td>37300</td>\n",
       "      <td>68789.0</td>\n",
       "      <td>86172.0</td>\n",
       "      <td>2.0</td>\n",
       "      <td>0.0</td>\n",
       "      <td>6.0</td>\n",
       "      <td>235.64</td>\n",
       "      <td>2.0</td>\n",
       "      <td>25.0</td>\n",
       "      <td>114.051</td>\n",
       "      <td>0</td>\n",
       "      <td>1</td>\n",
       "      <td>0</td>\n",
       "      <td>0</td>\n",
       "      <td>0</td>\n",
       "      <td>0</td>\n",
       "      <td>0</td>\n",
       "      <td>1</td>\n",
       "    </tr>\n",
       "    <tr>\n",
       "      <th>3549</th>\n",
       "      <td>1</td>\n",
       "      <td>13300</td>\n",
       "      <td>25698.0</td>\n",
       "      <td>58760.0</td>\n",
       "      <td>15.0</td>\n",
       "      <td>0.0</td>\n",
       "      <td>0.0</td>\n",
       "      <td>147.91</td>\n",
       "      <td>1.0</td>\n",
       "      <td>10.0</td>\n",
       "      <td>30.962</td>\n",
       "      <td>0</td>\n",
       "      <td>1</td>\n",
       "      <td>0</td>\n",
       "      <td>0</td>\n",
       "      <td>0</td>\n",
       "      <td>0</td>\n",
       "      <td>0</td>\n",
       "      <td>1</td>\n",
       "    </tr>\n",
       "  </tbody>\n",
       "</table>\n",
       "<p>2018 rows × 19 columns</p>\n",
       "</div>"
      ],
      "text/plain": [
       "      bad   loan   mortdue     value   yoj  derog  delinq   clage  ninq  clno  \\\n",
       "153     0  18200   94727.0  136877.0  15.0    0.0     0.0  168.96   2.0  26.0   \n",
       "154     0  21700   79240.0   96784.0   5.0    0.0     0.0   64.51   6.0  24.0   \n",
       "155     0  34100  241931.0   36486.0   1.0    0.0     2.0  196.01   3.0  50.0   \n",
       "156     0   8400   62989.0   76718.0   3.0    0.0     2.0  131.47   0.0  22.0   \n",
       "157     0  17400   25859.0   43684.0  16.0    1.0     0.0   95.36   1.0  17.0   \n",
       "...   ...    ...       ...       ...   ...    ...     ...     ...   ...   ...   \n",
       "3544    1   7200   15637.0   39660.0   6.0    0.0     1.0  354.24   3.0  42.0   \n",
       "3546    1  53400  228236.0  305514.0   6.0    0.0     0.0   11.15   0.0   2.0   \n",
       "3547    1  27300  106221.0  137727.0   3.0    0.0     0.0  300.57   3.0  45.0   \n",
       "3548    1  37300   68789.0   86172.0   2.0    0.0     6.0  235.64   2.0  25.0   \n",
       "3549    1  13300   25698.0   58760.0  15.0    0.0     0.0  147.91   1.0  10.0   \n",
       "\n",
       "      debtinc  reason_DebtCon  reason_HomeImp  job_Mgr  job_Office  job_Other  \\\n",
       "153    36.056               1               0        1           0          0   \n",
       "154    38.079               1               0        1           0          0   \n",
       "155    42.459               1               0        1           0          0   \n",
       "156    29.200               0               1        1           0          0   \n",
       "157    27.108               1               0        1           0          0   \n",
       "...       ...             ...             ...      ...         ...        ...   \n",
       "3544   33.624               0               1        0           0          0   \n",
       "3546   34.558               0               1        0           0          0   \n",
       "3547   32.560               1               0        0           0          0   \n",
       "3548  114.051               0               1        0           0          0   \n",
       "3549   30.962               0               1        0           0          0   \n",
       "\n",
       "      job_ProfEx  job_Sales  job_Self  \n",
       "153            0          0         0  \n",
       "154            0          0         0  \n",
       "155            0          0         0  \n",
       "156            0          0         0  \n",
       "157            0          0         0  \n",
       "...          ...        ...       ...  \n",
       "3544           0          0         1  \n",
       "3546           0          0         1  \n",
       "3547           0          0         1  \n",
       "3548           0          0         1  \n",
       "3549           0          0         1  \n",
       "\n",
       "[2018 rows x 19 columns]"
      ]
     },
     "execution_count": 38,
     "metadata": {},
     "output_type": "execute_result"
    }
   ],
   "source": [
    "#encoding\n",
    "df=pd.get_dummies(df, columns=['reason','job'])\n",
    "df"
   ]
  },
  {
   "cell_type": "code",
   "execution_count": 39,
   "metadata": {},
   "outputs": [],
   "source": [
    "# Extract independent and target variables\n",
    "X = df.drop(['bad'], axis=1)\n",
    "y = df['bad']"
   ]
  },
  {
   "cell_type": "markdown",
   "metadata": {},
   "source": [
    "Data Normalization\n",
    "\n",
    "some of the columns in X have large variance in the numeric data in them so standard scaling is done to normalize them"
   ]
  },
  {
   "cell_type": "code",
   "execution_count": 40,
   "metadata": {},
   "outputs": [],
   "source": [
    "#Scaling\n",
    "from sklearn.preprocessing import StandardScaler\n",
    "sc_X = StandardScaler()\n",
    "X = pd.DataFrame(sc_X.fit_transform(X), columns=X.columns)"
   ]
  },
  {
   "cell_type": "markdown",
   "metadata": {},
   "source": [
    "# Normallik - Shapiro Testi\n"
   ]
  },
  {
   "cell_type": "code",
   "execution_count": 45,
   "metadata": {},
   "outputs": [
    {
     "name": "stdout",
     "output_type": "stream",
     "text": [
      "loan\n",
      "0 için İstatistik değeri: 0.825, p değeri = 7.618018971455436e-41\n",
      "Orneklem Normal (Gaussian) dağılım gostermemektedir\n",
      "loan\n",
      "1 için İstatistik değeri: 0.904, p değeri = 2.437214208228511e-09\n",
      "Orneklem Normal (Gaussian) dağılım gostermemektedir\n",
      "mortdue\n",
      "0 için İstatistik değeri: 0.876, p değeri = 6.140487180178297e-36\n",
      "Orneklem Normal (Gaussian) dağılım gostermemektedir\n",
      "mortdue\n",
      "1 için İstatistik değeri: 0.753, p değeri = 5.364428532155343e-16\n",
      "Orneklem Normal (Gaussian) dağılım gostermemektedir\n",
      "value\n",
      "0 için İstatistik değeri: 0.857, p değeri = 5.560680210281526e-38\n",
      "Orneklem Normal (Gaussian) dağılım gostermemektedir\n",
      "value\n",
      "1 için İstatistik değeri: 0.735, p değeri = 1.3988843091622356e-16\n",
      "Orneklem Normal (Gaussian) dağılım gostermemektedir\n",
      "yoj\n",
      "0 için İstatistik değeri: 0.914, p değeri = 3.7622141034931923e-31\n",
      "Orneklem Normal (Gaussian) dağılım gostermemektedir\n",
      "yoj\n",
      "1 için İstatistik değeri: 0.877, p değeri = 6.26317955831901e-11\n",
      "Orneklem Normal (Gaussian) dağılım gostermemektedir\n",
      "derog\n",
      "0 için İstatistik değeri: 0.299, p değeri = 0.0\n",
      "Orneklem Normal (Gaussian) dağılım gostermemektedir\n",
      "derog\n",
      "1 için İstatistik değeri: 0.477, p değeri = 1.05843499759195e-22\n",
      "Orneklem Normal (Gaussian) dağılım gostermemektedir\n",
      "delinq\n",
      "0 için İstatistik değeri: 0.390, p değeri = 0.0\n",
      "Orneklem Normal (Gaussian) dağılım gostermemektedir\n",
      "delinq\n",
      "1 için İstatistik değeri: 0.620, p değeri = 1.094538957462091e-19\n",
      "Orneklem Normal (Gaussian) dağılım gostermemektedir\n",
      "clage\n",
      "0 için İstatistik değeri: 0.934, p değeri = 8.97556250532847e-28\n",
      "Orneklem Normal (Gaussian) dağılım gostermemektedir\n",
      "clage\n",
      "1 için İstatistik değeri: 0.671, p değeri = 2.030652096406175e-18\n",
      "Orneklem Normal (Gaussian) dağılım gostermemektedir\n",
      "ninq\n",
      "0 için İstatistik değeri: 0.665, p değeri = 0.0\n",
      "Orneklem Normal (Gaussian) dağılım gostermemektedir\n",
      "ninq\n",
      "1 için İstatistik değeri: 0.740, p değeri = 2.086744280806386e-16\n",
      "Orneklem Normal (Gaussian) dağılım gostermemektedir\n",
      "clno\n",
      "0 için İstatistik değeri: 0.965, p değeri = 8.786936083171943e-21\n",
      "Orneklem Normal (Gaussian) dağılım gostermemektedir\n",
      "clno\n",
      "1 için İstatistik değeri: 0.946, p değeri = 2.8263050353416475e-06\n",
      "Orneklem Normal (Gaussian) dağılım gostermemektedir\n",
      "debtinc\n",
      "0 için İstatistik değeri: 0.953, p değeri = 6.490351914414517e-24\n",
      "Orneklem Normal (Gaussian) dağılım gostermemektedir\n",
      "debtinc\n",
      "1 için İstatistik değeri: 0.758, p değeri = 8.116476694267191e-16\n",
      "Orneklem Normal (Gaussian) dağılım gostermemektedir\n",
      "reason_DebtCon\n",
      "0 için İstatistik değeri: 0.570, p değeri = 0.0\n",
      "Orneklem Normal (Gaussian) dağılım gostermemektedir\n",
      "reason_DebtCon\n",
      "1 için İstatistik değeri: 0.578, p değeri = 1.1675099392005494e-20\n",
      "Orneklem Normal (Gaussian) dağılım gostermemektedir\n",
      "reason_HomeImp\n",
      "0 için İstatistik değeri: 0.570, p değeri = 0.0\n",
      "Orneklem Normal (Gaussian) dağılım gostermemektedir\n",
      "reason_HomeImp\n",
      "1 için İstatistik değeri: 0.578, p değeri = 1.1674787583688652e-20\n",
      "Orneklem Normal (Gaussian) dağılım gostermemektedir\n",
      "job_Mgr\n",
      "0 için İstatistik değeri: 0.398, p değeri = 0.0\n",
      "Orneklem Normal (Gaussian) dağılım gostermemektedir\n",
      "job_Mgr\n",
      "1 için İstatistik değeri: 0.429, p değeri = 1.4398607941899617e-23\n",
      "Orneklem Normal (Gaussian) dağılım gostermemektedir\n",
      "job_Office\n",
      "0 için İstatistik değeri: 0.463, p değeri = 0.0\n",
      "Orneklem Normal (Gaussian) dağılım gostermemektedir\n",
      "job_Office\n",
      "1 için İstatistik değeri: 0.385, p değeri = 2.616707631742367e-24\n",
      "Orneklem Normal (Gaussian) dağılım gostermemektedir\n",
      "job_Other\n",
      "0 için İstatistik değeri: 0.614, p değeri = 0.0\n",
      "Orneklem Normal (Gaussian) dağılım gostermemektedir\n",
      "job_Other\n",
      "1 için İstatistik değeri: 0.633, p değeri = 2.2098111969778235e-19\n",
      "Orneklem Normal (Gaussian) dağılım gostermemektedir\n",
      "job_ProfEx\n",
      "0 için İstatistik değeri: 0.558, p değeri = 0.0\n",
      "Orneklem Normal (Gaussian) dağılım gostermemektedir\n",
      "job_ProfEx\n",
      "1 için İstatistik değeri: 0.486, p değeri = 1.5792636864129324e-22\n",
      "Orneklem Normal (Gaussian) dağılım gostermemektedir\n",
      "job_Sales\n",
      "0 için İstatistik değeri: 0.085, p değeri = 0.0\n",
      "Orneklem Normal (Gaussian) dağılım gostermemektedir\n",
      "job_Sales\n",
      "1 için İstatistik değeri: 0.192, p değeri = 3.680510671994317e-27\n",
      "Orneklem Normal (Gaussian) dağılım gostermemektedir\n",
      "job_Self\n",
      "0 için İstatistik değeri: 0.151, p değeri = 0.0\n",
      "Orneklem Normal (Gaussian) dağılım gostermemektedir\n",
      "job_Self\n",
      "1 için İstatistik değeri: 0.192, p değeri = 3.680510671994317e-27\n",
      "Orneklem Normal (Gaussian) dağılım gostermemektedir\n"
     ]
    }
   ],
   "source": [
    "##tüm nümerik değerlerde bad'in 0 ve 1 olduğu durumlar için shapiro testi\n",
    "grps=pd.unique(df.bad.values)\n",
    "grps\n",
    "alpha=0.05\n",
    "for i in df.columns:\n",
    "    if (i!='reason' and i!='job' and i!='bad'):\n",
    "        for name in grps:\n",
    "            stat,p=shapiro(df[i][df['bad']==name])\n",
    "            print(i)\n",
    "            print(name,\"için İstatistik değeri: %.3f, p değeri =\" %stat , p)        \n",
    "            if p >alpha:\n",
    "                print('Orneklem Normal (Gaussian) dağılımdan gelmektedir')  \n",
    "            else:\n",
    "                print('Orneklem Normal (Gaussian) dağılım gostermemektedir')"
   ]
  },
  {
   "cell_type": "markdown",
   "metadata": {},
   "source": [
    "\n",
    "Bagimsiz T-Test (varianceleri esit degil)\n"
   ]
  },
  {
   "cell_type": "code",
   "execution_count": 47,
   "metadata": {},
   "outputs": [
    {
     "data": {
      "text/plain": [
       "Ttest_indResult(statistic=-2.3381453653503086, pvalue=0.020379743009413497)"
      ]
     },
     "execution_count": 47,
     "metadata": {},
     "output_type": "execute_result"
    }
   ],
   "source": [
    "bad = df[df['bad'] == 1]['loan']\n",
    "good = df[df['bad'] == 0]['loan']\n",
    "\n",
    "stats.ttest_ind(np.log(bad), np.log(good), equal_var=False)"
   ]
  },
  {
   "cell_type": "code",
   "execution_count": 50,
   "metadata": {},
   "outputs": [
    {
     "name": "stdout",
     "output_type": "stream",
     "text": [
      "\n",
      " loan için istatistik değeri: 2.395 ve p değeri = 0.12189825252399986\n",
      "Orneklem Sabit varyansa(constant variance) sahiptir)\n",
      "F_oneway istatistik değeri: 1.176 ve p değeri = 0.23971203285250864\n",
      "Bu veri etkili bir değişken değildir (H0 = fail to reject)\n",
      "\n",
      " mortdue için istatistik değeri: 2.307 ve p değeri = 0.12891801775903636\n",
      "Orneklem Sabit varyansa(constant variance) sahiptir)\n",
      "F_oneway istatistik değeri: 1.127 ve p değeri = 0.259677683857574\n",
      "Bu veri etkili bir değişken değildir (H0 = fail to reject)\n",
      "\n",
      " value için istatistik değeri: 3.991 ve p değeri = 0.0458714974437462\n",
      "Orneklem Sabit varyansa(constant variance) sahip değildir\n",
      "F_oneway istatistik değeri: 1.407 ve p değeri = 0.15962080002954823\n",
      "Bu veri etkili bir değişken değildir (H0 = fail to reject)\n",
      "\n",
      " yoj için istatistik değeri: 4.210 ve p değeri = 0.040312559874429624\n",
      "Orneklem Sabit varyansa(constant variance) sahip değildir\n",
      "F_oneway istatistik değeri: 2.290 ve p değeri = 0.022121892389347888\n",
      "Bu veri etkili bir değişkendir (H0 = reject)\n",
      "\n",
      " derog için istatistik değeri: 118.586 ve p değeri = 7.1109894880631e-27\n",
      "Orneklem Sabit varyansa(constant variance) sahip değildir\n",
      "F_oneway istatistik değeri: -10.890 ve p değeri = 7.110989488069691e-27\n",
      "Bu veri etkili bir değişkendir (H0 = reject)\n",
      "\n",
      " delinq için istatistik değeri: 172.844 ve p değeri = 6.144156048310947e-38\n",
      "Orneklem Sabit varyansa(constant variance) sahip değildir\n",
      "F_oneway istatistik değeri: -13.147 ve p değeri = 6.14415604831718e-38\n",
      "Bu veri etkili bir değişkendir (H0 = reject)\n",
      "\n",
      " clage için istatistik değeri: 0.008 ve p değeri = 0.9266532240501075\n",
      "Orneklem Sabit varyansa(constant variance) sahiptir)\n",
      "F_oneway istatistik değeri: 4.095 ve p değeri = 4.384740676245088e-05\n",
      "Bu veri etkili bir değişkendir (H0 = reject)\n",
      "\n",
      " ninq için istatistik değeri: 19.275 ve p değeri = 1.1901804304738905e-05\n",
      "Orneklem Sabit varyansa(constant variance) sahip değildir\n",
      "F_oneway istatistik değeri: -4.967 ve p değeri = 7.375238556583269e-07\n",
      "Bu veri etkili bir değişkendir (H0 = reject)\n",
      "\n",
      " clno için istatistik değeri: 9.247 ve p değeri = 0.002388546558601237\n",
      "Orneklem Sabit varyansa(constant variance) sahip değildir\n",
      "F_oneway istatistik değeri: 0.566 ve p değeri = 0.5715362665392278\n",
      "Bu veri etkili bir değişken değildir (H0 = fail to reject)\n",
      "\n",
      " debtinc için istatistik değeri: 115.704 ve p değeri = 2.8084956639802037e-26\n",
      "Orneklem Sabit varyansa(constant variance) sahip değildir\n",
      "F_oneway istatistik değeri: -11.646 ve p değeri = 2.2111880825013413e-30\n",
      "Bu veri etkili bir değişkendir (H0 = reject)\n",
      "\n",
      " reason_DebtCon için istatistik değeri: 0.114 ve p değeri = 0.7355456665919106\n",
      "Orneklem Sabit varyansa(constant variance) sahiptir)\n",
      "F_oneway istatistik değeri: 0.338 ve p değeri = 0.7355456665917693\n",
      "Bu veri etkili bir değişken değildir (H0 = fail to reject)\n",
      "\n",
      " reason_HomeImp için istatistik değeri: 0.114 ve p değeri = 0.7355456665919106\n",
      "Orneklem Sabit varyansa(constant variance) sahiptir)\n",
      "F_oneway istatistik değeri: -0.338 ve p değeri = 0.7355456665917682\n",
      "Bu veri etkili bir değişken değildir (H0 = fail to reject)\n",
      "\n",
      " job_Mgr için istatistik değeri: 0.571 ve p değeri = 0.4500483781863369\n",
      "Orneklem Sabit varyansa(constant variance) sahiptir)\n",
      "F_oneway istatistik değeri: -0.755 ve p değeri = 0.45004837818584487\n",
      "Bu veri etkili bir değişken değildir (H0 = fail to reject)\n",
      "\n",
      " job_Office için istatistik değeri: 3.267 ve p değeri = 0.0708467187805862\n",
      "Orneklem Sabit varyansa(constant variance) sahiptir)\n",
      "F_oneway istatistik değeri: 1.807 ve p değeri = 0.07084671878065853\n",
      "Bu veri etkili bir değişken değildir (H0 = fail to reject)\n",
      "\n",
      " job_Other için istatistik değeri: 3.587 ve p değeri = 0.05836031275727987\n",
      "Orneklem Sabit varyansa(constant variance) sahiptir)\n",
      "F_oneway istatistik değeri: -1.894 ve p değeri = 0.0583603127573429\n",
      "Bu veri etkili bir değişken değildir (H0 = fail to reject)\n",
      "\n",
      " job_ProfEx için istatistik değeri: 4.959 ve p değeri = 0.026061575358401017\n",
      "Orneklem Sabit varyansa(constant variance) sahip değildir\n",
      "F_oneway istatistik değeri: 2.227 ve p değeri = 0.026061575358423957\n",
      "Bu veri etkili bir değişkendir (H0 = reject)\n",
      "\n",
      " job_Sales için istatistik değeri: 7.999 ve p değeri = 0.004727464251226904\n",
      "Orneklem Sabit varyansa(constant variance) sahip değildir\n",
      "F_oneway istatistik değeri: -2.828 ve p değeri = 0.004727464251231243\n",
      "Bu veri etkili bir değişkendir (H0 = reject)\n",
      "\n",
      " job_Self için istatistik değeri: 0.783 ve p değeri = 0.3763308638042365\n",
      "Orneklem Sabit varyansa(constant variance) sahiptir)\n",
      "F_oneway istatistik değeri: -0.885 ve p değeri = 0.37633086380365\n",
      "Bu veri etkili bir değişken değildir (H0 = fail to reject)\n"
     ]
    }
   ],
   "source": [
    "from scipy.stats import levene\n",
    "from scipy import stats\n",
    "from scipy.stats import f_oneway\n",
    "for i in df.columns:\n",
    "    if (i!='reason' and i!='job' and i!='bad'):\n",
    "        stat,p = levene(df[i][df['bad'] == 0],\n",
    "              df[i][df['bad'] == 1]) \n",
    "        print(\"\\n\",i,\"için istatistik değeri: %.3f ve p değeri =\" %stat , p)#equal variance test\n",
    "        alpha=0.05\n",
    "        if p >alpha:\n",
    "            print('Orneklem Sabit varyansa(constant variance) sahiptir)')\n",
    "            const=True\n",
    "        else:\n",
    "            print('Orneklem Sabit varyansa(constant variance) sahip değildir')\n",
    "            const=False\n",
    "            \n",
    "        ##aynı döngü içinde ttest yaptım, constant varyansı levene ile aldım(const)\n",
    "        s,p =stats.ttest_ind(df[i][df['bad'] == 0],\n",
    "               df[i][df['bad'] == 1])\n",
    "        print(\"F_oneway istatistik değeri: %.3f ve p değeri =\" %s , p)\n",
    "        if p < 0.05:\n",
    "            print(\"Bu veri etkili bir değişkendir (H0 = reject)\")\n",
    "        else:\n",
    "            print(\"Bu veri etkili bir değişken değildir (H0 = fail to reject)\")"
   ]
  },
  {
   "cell_type": "markdown",
   "metadata": {},
   "source": [
    "# LOGARITMIC REGRESSION\n"
   ]
  },
  {
   "cell_type": "code",
   "execution_count": 53,
   "metadata": {},
   "outputs": [
    {
     "data": {
      "text/plain": [
       "0    1840\n",
       "1     178\n",
       "Name: bad, dtype: int64"
      ]
     },
     "execution_count": 53,
     "metadata": {},
     "output_type": "execute_result"
    }
   ],
   "source": [
    "##Bad'lerin sayısı:\n",
    "df[\"bad\"].value_counts()"
   ]
  },
  {
   "cell_type": "code",
   "execution_count": 55,
   "metadata": {},
   "outputs": [],
   "source": [
    "y=df[\"bad\"]\n",
    "X=df.drop([\"bad\"],axis=1)"
   ]
  },
  {
   "cell_type": "code",
   "execution_count": 56,
   "metadata": {},
   "outputs": [
    {
     "name": "stdout",
     "output_type": "stream",
     "text": [
      "       loan   mortdue     value   yoj  derog  delinq   clage  ninq  clno  \\\n",
      "205   33700   26395.0   48905.0   6.0    0.0     0.0   48.71   0.0   7.0   \n",
      "1377  59200   43877.0   74768.0   5.0    0.0     0.0  102.55   0.0  21.0   \n",
      "1305  22900   41279.0   59993.0   0.0    0.0     0.0  111.24   0.0  17.0   \n",
      "3134  27000   79218.0  115721.0   9.0    0.0     0.0  280.34   0.0  35.0   \n",
      "1463  16100   41379.0   57862.0  17.0    0.0     0.0  282.01   0.0  21.0   \n",
      "...     ...       ...       ...   ...    ...     ...     ...   ...   ...   \n",
      "1273  16100   72942.0   99544.0   5.0    2.0     0.0   54.95   1.0  20.0   \n",
      "1668  11500  104610.0  118861.0  18.0    0.0     1.0  203.70   1.0  16.0   \n",
      "2497   7500   60192.0   76475.0   8.0    0.0     0.0   60.50   2.0  24.0   \n",
      "835   21500   71636.0   96678.0  13.0    0.0     0.0  135.94   0.0  13.0   \n",
      "1118   7600   58622.0   77726.0  15.0    0.0     0.0  249.63   2.0  36.0   \n",
      "\n",
      "      debtinc  reason_DebtCon  reason_HomeImp  job_Mgr  job_Office  job_Other  \\\n",
      "205    36.424               1               0        1           0          0   \n",
      "1377   31.304               1               0        0           0          1   \n",
      "1305   20.930               1               0        0           0          1   \n",
      "3134   33.228               1               0        0           0          1   \n",
      "1463   30.708               1               0        0           0          1   \n",
      "...       ...             ...             ...      ...         ...        ...   \n",
      "1273   23.283               1               0        0           0          1   \n",
      "1668   37.597               1               0        0           0          1   \n",
      "2497   39.281               1               0        0           0          0   \n",
      "835    37.872               0               1        0           1          0   \n",
      "1118   34.882               0               1        0           0          1   \n",
      "\n",
      "      job_ProfEx  job_Sales  job_Self  \n",
      "205            0          0         0  \n",
      "1377           0          0         0  \n",
      "1305           0          0         0  \n",
      "3134           0          0         0  \n",
      "1463           0          0         0  \n",
      "...          ...        ...       ...  \n",
      "1273           0          0         0  \n",
      "1668           0          0         0  \n",
      "2497           1          0         0  \n",
      "835            0          0         0  \n",
      "1118           0          0         0  \n",
      "\n",
      "[1614 rows x 18 columns]\n",
      "299     0\n",
      "833     0\n",
      "397     0\n",
      "1333    0\n",
      "2361    0\n",
      "       ..\n",
      "1492    0\n",
      "814     0\n",
      "1239    0\n",
      "1691    0\n",
      "565     0\n",
      "Name: bad, Length: 404, dtype: int64\n"
     ]
    }
   ],
   "source": [
    "# Splitting the dataset into the Training set and Test set\n",
    "from sklearn.model_selection import train_test_split\n",
    "from sklearn.preprocessing import StandardScaler\n",
    "\n",
    "\n",
    "\n",
    "X_train, X_test, y_train, y_test = train_test_split(X, y, test_size=0.2, random_state=0)\n",
    "print(X_train)\n",
    "print(y_test)"
   ]
  },
  {
   "cell_type": "code",
   "execution_count": 57,
   "metadata": {},
   "outputs": [],
   "source": [
    "from sklearn.preprocessing import StandardScaler\n",
    "sc = StandardScaler()\n",
    "sc.fit(X_train)\n",
    "X_train_std = sc.transform(X_train)\n",
    "X_test_std = sc.transform(X_test)\n",
    "\n",
    "#Sayıları belirli bir aralığa sıkıştırmak ve scale yapma : Standart Scaler kullanılabilir\n",
    "#Bu işlem data dağılımının ortalamasının 0 ve stardat sapmasının da bir olacak şekilde dönüştürür\n",
    "#it will transform your data such that its distribution will have a mean value 0 and standard deviation of 1"
   ]
  },
  {
   "cell_type": "code",
   "execution_count": 58,
   "metadata": {},
   "outputs": [
    {
     "name": "stdout",
     "output_type": "stream",
     "text": [
      "Optimization terminated successfully.\n",
      "         Current function value: 0.660734\n",
      "         Iterations 7\n"
     ]
    },
    {
     "name": "stderr",
     "output_type": "stream",
     "text": [
      "/home/basak/anaconda3/lib/python3.7/site-packages/statsmodels/base/model.py:1354: RuntimeWarning: invalid value encountered in sqrt\n",
      "  bse_ = np.sqrt(np.diag(self.cov_params()))\n",
      "/home/basak/anaconda3/lib/python3.7/site-packages/scipy/stats/_distn_infrastructure.py:903: RuntimeWarning: invalid value encountered in greater\n",
      "  return (a < x) & (x < b)\n",
      "/home/basak/anaconda3/lib/python3.7/site-packages/scipy/stats/_distn_infrastructure.py:903: RuntimeWarning: invalid value encountered in less\n",
      "  return (a < x) & (x < b)\n",
      "/home/basak/anaconda3/lib/python3.7/site-packages/scipy/stats/_distn_infrastructure.py:1912: RuntimeWarning: invalid value encountered in less_equal\n",
      "  cond2 = cond0 & (x <= _a)\n"
     ]
    },
    {
     "data": {
      "text/html": [
       "<table class=\"simpletable\">\n",
       "<caption>Logit Regression Results</caption>\n",
       "<tr>\n",
       "  <th>Dep. Variable:</th>          <td>bad</td>       <th>  No. Observations:  </th>  <td>  1614</td> \n",
       "</tr>\n",
       "<tr>\n",
       "  <th>Model:</th>                 <td>Logit</td>      <th>  Df Residuals:      </th>  <td>  1598</td> \n",
       "</tr>\n",
       "<tr>\n",
       "  <th>Method:</th>                 <td>MLE</td>       <th>  Df Model:          </th>  <td>    15</td> \n",
       "</tr>\n",
       "<tr>\n",
       "  <th>Date:</th>            <td>Mon, 10 Aug 2020</td> <th>  Pseudo R-squ.:     </th>  <td>-1.229</td> \n",
       "</tr>\n",
       "<tr>\n",
       "  <th>Time:</th>                <td>01:36:05</td>     <th>  Log-Likelihood:    </th> <td> -1066.4</td>\n",
       "</tr>\n",
       "<tr>\n",
       "  <th>converged:</th>             <td>True</td>       <th>  LL-Null:           </th> <td> -478.37</td>\n",
       "</tr>\n",
       "<tr>\n",
       "  <th>Covariance Type:</th>     <td>nonrobust</td>    <th>  LLR p-value:       </th>  <td> 1.000</td> \n",
       "</tr>\n",
       "</table>\n",
       "<table class=\"simpletable\">\n",
       "<tr>\n",
       "   <td></td>      <th>coef</th>     <th>std err</th>      <th>z</th>      <th>P>|z|</th>  <th>[0.025</th>    <th>0.975]</th>  \n",
       "</tr>\n",
       "<tr>\n",
       "  <th>x1</th>  <td>   -0.0424</td> <td>    0.059</td> <td>   -0.720</td> <td> 0.472</td> <td>   -0.158</td> <td>    0.073</td>\n",
       "</tr>\n",
       "<tr>\n",
       "  <th>x2</th>  <td>   -0.1097</td> <td>    0.114</td> <td>   -0.964</td> <td> 0.335</td> <td>   -0.333</td> <td>    0.113</td>\n",
       "</tr>\n",
       "<tr>\n",
       "  <th>x3</th>  <td>    0.1222</td> <td>    0.114</td> <td>    1.069</td> <td> 0.285</td> <td>   -0.102</td> <td>    0.346</td>\n",
       "</tr>\n",
       "<tr>\n",
       "  <th>x4</th>  <td>   -0.0561</td> <td>    0.055</td> <td>   -1.024</td> <td> 0.306</td> <td>   -0.164</td> <td>    0.051</td>\n",
       "</tr>\n",
       "<tr>\n",
       "  <th>x5</th>  <td>    0.2679</td> <td>    0.075</td> <td>    3.591</td> <td> 0.000</td> <td>    0.122</td> <td>    0.414</td>\n",
       "</tr>\n",
       "<tr>\n",
       "  <th>x6</th>  <td>    0.3964</td> <td>    0.072</td> <td>    5.487</td> <td> 0.000</td> <td>    0.255</td> <td>    0.538</td>\n",
       "</tr>\n",
       "<tr>\n",
       "  <th>x7</th>  <td>   -0.0761</td> <td>    0.056</td> <td>   -1.360</td> <td> 0.174</td> <td>   -0.186</td> <td>    0.034</td>\n",
       "</tr>\n",
       "<tr>\n",
       "  <th>x8</th>  <td>    0.0823</td> <td>    0.055</td> <td>    1.505</td> <td> 0.132</td> <td>   -0.025</td> <td>    0.190</td>\n",
       "</tr>\n",
       "<tr>\n",
       "  <th>x9</th>  <td>   -0.1040</td> <td>    0.059</td> <td>   -1.751</td> <td> 0.080</td> <td>   -0.220</td> <td>    0.012</td>\n",
       "</tr>\n",
       "<tr>\n",
       "  <th>x10</th> <td>    0.3091</td> <td>    0.063</td> <td>    4.937</td> <td> 0.000</td> <td>    0.186</td> <td>    0.432</td>\n",
       "</tr>\n",
       "<tr>\n",
       "  <th>x11</th> <td>    0.0060</td> <td>      nan</td> <td>      nan</td> <td>   nan</td> <td>      nan</td> <td>      nan</td>\n",
       "</tr>\n",
       "<tr>\n",
       "  <th>x12</th> <td>   -0.0060</td> <td>      nan</td> <td>      nan</td> <td>   nan</td> <td>      nan</td> <td>      nan</td>\n",
       "</tr>\n",
       "<tr>\n",
       "  <th>x13</th> <td>   -0.0049</td> <td>      nan</td> <td>      nan</td> <td>   nan</td> <td>      nan</td> <td>      nan</td>\n",
       "</tr>\n",
       "<tr>\n",
       "  <th>x14</th> <td>   -0.0280</td> <td>      nan</td> <td>      nan</td> <td>   nan</td> <td>      nan</td> <td>      nan</td>\n",
       "</tr>\n",
       "<tr>\n",
       "  <th>x15</th> <td>   -0.0148</td> <td>      nan</td> <td>      nan</td> <td>   nan</td> <td>      nan</td> <td>      nan</td>\n",
       "</tr>\n",
       "<tr>\n",
       "  <th>x16</th> <td>    0.0168</td> <td>      nan</td> <td>      nan</td> <td>   nan</td> <td>      nan</td> <td>      nan</td>\n",
       "</tr>\n",
       "<tr>\n",
       "  <th>x17</th> <td>    0.0813</td> <td>    0.082</td> <td>    0.990</td> <td> 0.322</td> <td>   -0.080</td> <td>    0.242</td>\n",
       "</tr>\n",
       "<tr>\n",
       "  <th>x18</th> <td>    0.0080</td> <td>      nan</td> <td>      nan</td> <td>   nan</td> <td>      nan</td> <td>      nan</td>\n",
       "</tr>\n",
       "</table>"
      ],
      "text/plain": [
       "<class 'statsmodels.iolib.summary.Summary'>\n",
       "\"\"\"\n",
       "                           Logit Regression Results                           \n",
       "==============================================================================\n",
       "Dep. Variable:                    bad   No. Observations:                 1614\n",
       "Model:                          Logit   Df Residuals:                     1598\n",
       "Method:                           MLE   Df Model:                           15\n",
       "Date:                Mon, 10 Aug 2020   Pseudo R-squ.:                  -1.229\n",
       "Time:                        01:36:05   Log-Likelihood:                -1066.4\n",
       "converged:                       True   LL-Null:                       -478.37\n",
       "Covariance Type:            nonrobust   LLR p-value:                     1.000\n",
       "==============================================================================\n",
       "                 coef    std err          z      P>|z|      [0.025      0.975]\n",
       "------------------------------------------------------------------------------\n",
       "x1            -0.0424      0.059     -0.720      0.472      -0.158       0.073\n",
       "x2            -0.1097      0.114     -0.964      0.335      -0.333       0.113\n",
       "x3             0.1222      0.114      1.069      0.285      -0.102       0.346\n",
       "x4            -0.0561      0.055     -1.024      0.306      -0.164       0.051\n",
       "x5             0.2679      0.075      3.591      0.000       0.122       0.414\n",
       "x6             0.3964      0.072      5.487      0.000       0.255       0.538\n",
       "x7            -0.0761      0.056     -1.360      0.174      -0.186       0.034\n",
       "x8             0.0823      0.055      1.505      0.132      -0.025       0.190\n",
       "x9            -0.1040      0.059     -1.751      0.080      -0.220       0.012\n",
       "x10            0.3091      0.063      4.937      0.000       0.186       0.432\n",
       "x11            0.0060        nan        nan        nan         nan         nan\n",
       "x12           -0.0060        nan        nan        nan         nan         nan\n",
       "x13           -0.0049        nan        nan        nan         nan         nan\n",
       "x14           -0.0280        nan        nan        nan         nan         nan\n",
       "x15           -0.0148        nan        nan        nan         nan         nan\n",
       "x16            0.0168        nan        nan        nan         nan         nan\n",
       "x17            0.0813      0.082      0.990      0.322      -0.080       0.242\n",
       "x18            0.0080        nan        nan        nan         nan         nan\n",
       "==============================================================================\n",
       "\"\"\""
      ]
     },
     "execution_count": 58,
     "metadata": {},
     "output_type": "execute_result"
    }
   ],
   "source": [
    "\n",
    "## Lojistik regresyon yapalım \n",
    "import statsmodels.api as sm\n",
    "loj=sm.Logit(y_train,X_train_std)\n",
    "loj_model=loj.fit()\n",
    "loj_model.summary()\n",
    "# p değerinin alpha'dan küçük olduğu değerler bizim için y yi aciklama da anlam ifade etmektedir.\n",
    "# Logistic regresyon modeline bakıldığında \n",
    "# derog,delinq,clage,ninq,clno ve debtinc'in anlamlı olduğu söylenir"
   ]
  },
  {
   "cell_type": "code",
   "execution_count": 59,
   "metadata": {},
   "outputs": [],
   "source": [
    "from sklearn.linear_model import LogisticRegression"
   ]
  },
  {
   "cell_type": "code",
   "execution_count": 60,
   "metadata": {},
   "outputs": [
    {
     "data": {
      "text/plain": [
       "LogisticRegression(C=1.0, class_weight=None, dual=False, fit_intercept=True,\n",
       "                   intercept_scaling=1, l1_ratio=None, max_iter=100,\n",
       "                   multi_class='auto', n_jobs=None, penalty='l2',\n",
       "                   random_state=None, solver='liblinear', tol=0.0001, verbose=0,\n",
       "                   warm_start=False)"
      ]
     },
     "execution_count": 60,
     "metadata": {},
     "output_type": "execute_result"
    }
   ],
   "source": [
    "loj=LogisticRegression(solver=\"liblinear\")\n",
    "loj_model=loj.fit(X_train_std, y_train)\n",
    "loj_model"
   ]
  },
  {
   "cell_type": "code",
   "execution_count": 61,
   "metadata": {},
   "outputs": [
    {
     "data": {
      "text/plain": [
       "array([0.03198395, 0.09500294, 0.05792578, 0.10642979, 0.08195315,\n",
       "       0.07163023, 0.02477879, 0.02302705, 0.03580538, 0.12339192])"
      ]
     },
     "execution_count": 61,
     "metadata": {},
     "output_type": "execute_result"
    }
   ],
   "source": [
    "# gerçek y değerlerim ile yukarıdaki tahmin değerleri  ile kıyaslamak için;\n",
    "y_probs = loj_model.predict_proba(X_test_std)\n",
    "y_probs = y_probs[:,1]\n",
    "y_probs[0:10]\n",
    "# değerlerin 1 olma olasılıkları\n"
   ]
  },
  {
   "cell_type": "code",
   "execution_count": 65,
   "metadata": {},
   "outputs": [
    {
     "data": {
      "text/plain": [
       "[0, 0, 0, 0, 0, 0, 0, 0, 0, 0]"
      ]
     },
     "execution_count": 65,
     "metadata": {},
     "output_type": "execute_result"
    }
   ],
   "source": [
    "# changing treshold of the predicting model\n",
    "y_pred = [1 if i > 0.5 else 0 for i in y_probs]\n",
    "y_pred[0:10]"
   ]
  },
  {
   "cell_type": "code",
   "execution_count": 66,
   "metadata": {},
   "outputs": [
    {
     "data": {
      "text/plain": [
       "array([[366,   1],\n",
       "       [ 27,  10]])"
      ]
     },
     "execution_count": 66,
     "metadata": {},
     "output_type": "execute_result"
    }
   ],
   "source": [
    "# import the metrics class\n",
    "from sklearn import metrics\n",
    "cnf_matrix = metrics.confusion_matrix(y_test, y_pred)\n",
    "cnf_matrix"
   ]
  },
  {
   "cell_type": "markdown",
   "metadata": {},
   "source": [
    "Diagonal values represent accurate predictions, while non-diagonal elements are inaccurate predictions. "
   ]
  },
  {
   "cell_type": "code",
   "execution_count": 67,
   "metadata": {},
   "outputs": [
    {
     "name": "stdout",
     "output_type": "stream",
     "text": [
      "Accuracy: 0.9306930693069307\n",
      "Precision: 0.9090909090909091\n",
      "Recall: 0.2702702702702703\n"
     ]
    }
   ],
   "source": [
    "print(\"Accuracy:\",metrics.accuracy_score(y_test, y_pred))\n",
    "print(\"Precision:\",metrics.precision_score(y_test, y_pred))\n",
    "print(\"Recall:\",metrics.recall_score(y_test, y_pred))"
   ]
  },
  {
   "cell_type": "code",
   "execution_count": 68,
   "metadata": {},
   "outputs": [
    {
     "name": "stdout",
     "output_type": "stream",
     "text": [
      "              precision    recall  f1-score   support\n",
      "\n",
      "           0       0.93      1.00      0.96       367\n",
      "           1       0.91      0.27      0.42        37\n",
      "\n",
      "    accuracy                           0.93       404\n",
      "   macro avg       0.92      0.63      0.69       404\n",
      "weighted avg       0.93      0.93      0.91       404\n",
      "\n"
     ]
    }
   ],
   "source": [
    "#prediction = loj.predict(X_test_std)\n",
    "from sklearn.metrics import classification_report\n",
    "print(classification_report(y_test, y_pred))"
   ]
  },
  {
   "cell_type": "markdown",
   "metadata": {},
   "source": [
    "Precision: Precision is about being precise, i.e., how accurate your model is. In other words, you can say, when a model makes a prediction, how often it is correct."
   ]
  },
  {
   "cell_type": "code",
   "execution_count": 71,
   "metadata": {},
   "outputs": [
    {
     "data": {
      "text/plain": [
       "[0, 0, 0, 0, 0, 0, 0, 0, 0, 0]"
      ]
     },
     "execution_count": 71,
     "metadata": {},
     "output_type": "execute_result"
    }
   ],
   "source": [
    "# changing treshold of the predicting model\n",
    "y_pred = [1 if i > 0.7 else 0 for i in y_probs]\n",
    "y_pred[0:10]"
   ]
  },
  {
   "cell_type": "code",
   "execution_count": 72,
   "metadata": {},
   "outputs": [
    {
     "data": {
      "text/plain": [
       "array([[367,   0],\n",
       "       [ 31,   6]])"
      ]
     },
     "execution_count": 72,
     "metadata": {},
     "output_type": "execute_result"
    }
   ],
   "source": [
    "# import the metrics class\n",
    "from sklearn import metrics\n",
    "cnf_matrix = metrics.confusion_matrix(y_test, y_pred)\n",
    "cnf_matrix"
   ]
  },
  {
   "cell_type": "code",
   "execution_count": 73,
   "metadata": {},
   "outputs": [
    {
     "name": "stdout",
     "output_type": "stream",
     "text": [
      "Accuracy: 0.9232673267326733\n",
      "Precision: 1.0\n",
      "Recall: 0.16216216216216217\n"
     ]
    }
   ],
   "source": [
    "print(\"Accuracy:\",metrics.accuracy_score(y_test, y_pred))\n",
    "print(\"Precision:\",metrics.precision_score(y_test, y_pred))\n",
    "print(\"Recall:\",metrics.recall_score(y_test, y_pred))"
   ]
  },
  {
   "cell_type": "code",
   "execution_count": 74,
   "metadata": {},
   "outputs": [
    {
     "name": "stdout",
     "output_type": "stream",
     "text": [
      "              precision    recall  f1-score   support\n",
      "\n",
      "           0       0.92      1.00      0.96       367\n",
      "           1       1.00      0.16      0.28        37\n",
      "\n",
      "    accuracy                           0.92       404\n",
      "   macro avg       0.96      0.58      0.62       404\n",
      "weighted avg       0.93      0.92      0.90       404\n",
      "\n"
     ]
    }
   ],
   "source": [
    "#prediction = loj.predict(X_test_std)\n",
    "from sklearn.metrics import classification_report\n",
    "print(classification_report(y_test, y_pred))"
   ]
  },
  {
   "cell_type": "code",
   "execution_count": 75,
   "metadata": {},
   "outputs": [
    {
     "data": {
      "text/plain": [
       "array([0.03198395, 0.09500294, 0.05792578, 0.10642979, 0.08195315])"
      ]
     },
     "execution_count": 75,
     "metadata": {},
     "output_type": "execute_result"
    }
   ],
   "source": [
    "loj_model.predict_proba(X_test_std)[:,1][0:5]"
   ]
  },
  {
   "cell_type": "code",
   "execution_count": 76,
   "metadata": {},
   "outputs": [
    {
     "data": {
      "text/plain": [
       "0.6337727373149716"
      ]
     },
     "execution_count": 76,
     "metadata": {},
     "output_type": "execute_result"
    }
   ],
   "source": [
    "#roc curve ün 1e yakın olmasını bekliyoruz modelin doğruluğunu test ediyoruz bunlar ne kadar fit ediyor\n",
    "import numpy as np\n",
    "import os\n",
    "import pandas as pd \n",
    "import statsmodels.api as sm\n",
    "import statsmodels.formula.api as smf\n",
    "import seaborn as sns\n",
    "from sklearn.preprocessing import scale \n",
    "from sklearn.model_selection import train_test_split, GridSearchCV, cross_val_score\n",
    "from sklearn.metrics import confusion_matrix, accuracy_score, classification_report\n",
    "from sklearn.metrics import roc_auc_score,roc_curve\n",
    "\n",
    "\n",
    "logit_roc_auc=roc_auc_score(y_test,loj_model.predict(X_test_std))\n",
    "logit_roc_auc"
   ]
  },
  {
   "cell_type": "code",
   "execution_count": 77,
   "metadata": {},
   "outputs": [
    {
     "name": "stdout",
     "output_type": "stream",
     "text": [
      "fpr:  [0.         0.         0.         0.0027248  0.0027248  0.00544959\n",
      " 0.00544959 0.00817439 0.00817439 0.02452316]\n",
      "tpr:  [0.         0.02702703 0.16216216 0.16216216 0.27027027 0.27027027\n",
      " 0.2972973  0.2972973  0.35135135 0.35135135]\n",
      "thresholds:  [1.99986966 0.99986966 0.78219241 0.66080357 0.52446951 0.42397899\n",
      " 0.40521352 0.36146102 0.33820806 0.2897076 ]\n"
     ]
    }
   ],
   "source": [
    "fpr, tpr, thresholds = roc_curve(y_test, loj_model.predict_proba(X_test_std)[:,1])\n",
    "print(\"fpr: \",fpr[0:10])\n",
    "print(\"tpr: \",tpr[0:10])\n",
    "print(\"thresholds: \",thresholds[0:10])"
   ]
  },
  {
   "cell_type": "code",
   "execution_count": 78,
   "metadata": {},
   "outputs": [
    {
     "data": {
      "image/png": "[encoded data removed]",
      "text/plain": [
       "<Figure size 432x288 with 1 Axes>"
      ]
     },
     "metadata": {
      "needs_background": "light"
     },
     "output_type": "display_data"
    }
   ],
   "source": [
    "### en baştan curve eden ve sonra converge eden bir eğri bekliyorum ki grafiğin altında kalan 1e daha yakın olsun\n",
    "plt.figure()\n",
    "plt.plot(fpr,tpr,label='AUC (area = %0.2f)' % logit_roc_auc)\n",
    "plt.plot([0,1],[0,1],'r--')\n",
    "plt.xlim([0.0, 1.0])\n",
    "plt.ylim([0.0, 1.05])\n",
    "plt.xlabel('False Positive Oranı')\n",
    "plt.ylabel('True Positive Oranı')\n",
    "plt.title('ROC')\n",
    "plt.show()\n"
   ]
  },
  {
   "cell_type": "markdown",
   "metadata": {},
   "source": [
    "are of the under the curve: 0.6337727373149716"
   ]
  },
  {
   "cell_type": "code",
   "execution_count": null,
   "metadata": {},
   "outputs": [],
   "source": []
  }
 ],
 "metadata": {
  "kernelspec": {
   "display_name": "Python 3",
   "language": "python",
   "name": "python3"
  },
  "language_info": {
   "codemirror_mode": {
    "name": "ipython",
    "version": 3
   },
   "file_extension": ".py",
   "mimetype": "text/x-python",
   "name": "python",
   "nbconvert_exporter": "python",
   "pygments_lexer": "ipython3",
   "version": "3.7.6"
  }
 },
 "nbformat": 4,
 "nbformat_minor": 4
}
