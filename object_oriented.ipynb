{
 "cells": [
  {
   "cell_type": "code",
   "execution_count": null,
   "metadata": {},
   "outputs": [],
   "source": [
    "class Information():\n",
    "\n",
    "    def __init__(self):\n",
    "        \"\"\"\n",
    "        This class give some brief information about the datasets.\n",
    "        \"\"\"\n",
    "        print(\"Information object created\")\n",
    "\n",
    "    def _get_missing_values(self,data):\n",
    "        \"\"\"\n",
    "        Find missing values of given datad\n",
    "        \"\"\"\n",
    "        #Getting sum of missing values for each feature\n",
    "        missing_values = data.isnull().sum()\n",
    "        #Feature missing values are sorted from few to many\n",
    "        missing_values.sort_values(ascending=False, inplace=True)\n",
    "        \n",
    "        #Returning missing values\n",
    "        return missing_values\n",
    "\n",
    "    def info(self,data):\n",
    "        \"\"\"\n",
    "        print feature name, data type, number of missing values and ten samples of \n",
    "        each feature\n",
    "        \"\"\"\n",
    "        feature_dtypes=data.dtypes\n",
    "        self.missing_values=self._get_missing_values(data)\n",
    "\n",
    "        print(\"{:5} {:9} {:25} {:16}\".format(\"Feature Name\".lower(),\n",
    "                                            \"Data Format\".lower(),\n",
    "                                            \"# of Missing Values\".lower(),\n",
    "                                            \"Samples\".upper()))\n",
    "        for feature_name, dtype, missing_value in zip(self.missing_values.index.values,\n",
    "                                                      feature_dtypes[self.missing_values.index.values],\n",
    "                                                      self.missing_values.values):\n",
    "            print(\"{:18} {:10} {:10} \".format(feature_name, str(dtype), str(missing_value)), end=\"\")\n",
    "            for v in data[feature_name].values[:10]:\n",
    "                print(v, end=\",\")\n",
    "            print()\n",
    "\n"
   ]
  },
  {
   "cell_type": "code",
   "execution_count": null,
   "metadata": {},
   "outputs": [],
   "source": [
    "class Visualizer:\n",
    "    \n",
    "    def __init__(self):\n",
    "        print(\"Visualizer object created!\")"
   ]
  },
  {
   "cell_type": "code",
   "execution_count": null,
   "metadata": {},
   "outputs": [],
   "source": [
    "class PreprocessStrategy():\n",
    " \n",
    "    def __init__(self):\n"
   ]
  },
  {
   "cell_type": "code",
   "execution_count": null,
   "metadata": {},
   "outputs": [],
   "source": [
    "class GridSearchHelper():\n",
    "    def __init__(self):\n",
    "        print(\"GridSearchHelper Created\")\n",
    "\n"
   ]
  },
  {
   "cell_type": "code",
   "execution_count": null,
   "metadata": {},
   "outputs": [],
   "source": [
    "\n",
    "\n"
   ]
  },
  {
   "cell_type": "code",
   "execution_count": null,
   "metadata": {},
   "outputs": [],
   "source": []
  },
  {
   "cell_type": "code",
   "execution_count": null,
   "metadata": {},
   "outputs": [],
   "source": []
  },
  {
   "cell_type": "code",
   "execution_count": null,
   "metadata": {},
   "outputs": [],
   "source": []
  },
  {
   "cell_type": "code",
   "execution_count": null,
   "metadata": {},
   "outputs": [],
   "source": []
  },
  {
   "cell_type": "code",
   "execution_count": null,
   "metadata": {},
   "outputs": [],
   "source": [
    "\n",
    "\n"
   ]
  },
  {
   "cell_type": "code",
   "execution_count": null,
   "metadata": {},
   "outputs": [],
   "source": []
  },
  {
   "cell_type": "code",
   "execution_count": null,
   "metadata": {},
   "outputs": [],
   "source": []
  },
  {
   "cell_type": "code",
   "execution_count": null,
   "metadata": {},
   "outputs": [],
   "source": []
  },
  {
   "cell_type": "code",
   "execution_count": null,
   "metadata": {},
   "outputs": [],
   "source": []
  },
  {
   "cell_type": "code",
   "execution_count": null,
   "metadata": {},
   "outputs": [],
   "source": []
  },
  {
   "cell_type": "code",
   "execution_count": null,
   "metadata": {},
   "outputs": [],
   "source": []
  },
  {
   "cell_type": "code",
   "execution_count": null,
   "metadata": {},
   "outputs": [],
   "source": []
  }
 ],
 "metadata": {
  "kernelspec": {
   "display_name": "Python 3",
   "language": "python",
   "name": "python3"
  },
  "language_info": {
   "codemirror_mode": {
    "name": "ipython",
    "version": 3
   },
   "file_extension": ".py",
   "mimetype": "text/x-python",
   "name": "python",
   "nbconvert_exporter": "python",
   "pygments_lexer": "ipython3",
   "version": "3.7.6"
  }
 },
 "nbformat": 4,
 "nbformat_minor": 2
}
