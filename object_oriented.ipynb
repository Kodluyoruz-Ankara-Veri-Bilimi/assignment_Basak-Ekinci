{
 "cells": [
  {
   "cell_type": "code",
   "execution_count": 1,
   "metadata": {},
   "outputs": [],
   "source": [
    "import pandas as pd\n",
    "import numpy as np\n",
    "import matplotlib.pyplot as plt\n",
    "import itertools\n",
    "from sklearn.metrics import confusion_matrix\n",
    "import seaborn as sns\n",
    "from scipy import stats\n",
    "import scipy\n",
    "import matplotlib.pyplot as plt\n",
    "import pandas as pd\n",
    "import numpy as np\n",
    "from scipy.stats import shapiro\n",
    "from scipy.stats import levene\n",
    "from scipy import stats\n",
    "from scipy.stats import f_oneway\n",
    "from sklearn.model_selection import train_test_split\n",
    "from sklearn.linear_model import LinearRegression\n",
    "from sklearn.metrics import mean_squared_error, r2_score"
   ]
  },
  {
   "cell_type": "code",
   "execution_count": 4,
   "metadata": {},
   "outputs": [],
   "source": [
    "class Information:\n",
    "    import pandas as pd\n",
    "        \n",
    "    def __init__(self, data_or_directory, usecols=None):\n",
    "        \n",
    "        if(type(data_or_directory) != str):\n",
    "            self.df = data_or_directory\n",
    "        elif(type(data_or_directory) == str):\n",
    "            import pandas as pd\n",
    "            self.df = pd.read_excel(data_or_directory, usecols=usecols)\n",
    "        else:\n",
    "            self.df = pd.read_excel(data_or_directory, usecols=usecols)\n",
    "            \n",
    "    def getDataFrame(self,row=None):\n",
    "        return self.df.head(row)\n",
    "    \n",
    "    def sortDataFrame(self, column, ascending, take):\n",
    "        data = self.df.sort_values(by=column, ascending = ascending)\n",
    "        return data.head(take)\n",
    "#value which sorts Data frame in ascending order if True.\n",
    "    def describe(self, transpoze = False):\n",
    "        if(transpoze == True):\n",
    "            dataf = self.df.describe().T\n",
    "            return dataf\n",
    "        else:\n",
    "            return self.df.describe()   \n",
    "    \n",
    "    def info():\n",
    "        return self.df.info()\n",
    "    \n",
    "    def dropColum(self, column, axis=1):\n",
    "        self.df = self.df.drop(columns=[], axis=axis)\n",
    "#To specify we want to drop column, we need to provide axis=1        \n",
    "        return self.dropn.head()    \n",
    "    def count(self):\n",
    "        return self.df.count()       \n",
    "            \n",
    "            \n",
    "            \n",
    "\n",
    "\n",
    "\n",
    "\n",
    "\n",
    "\n"
   ]
  },
  {
   "cell_type": "code",
   "execution_count": 5,
   "metadata": {},
   "outputs": [],
   "source": [
    "class Visualization:\n",
    "    import seaborn as sns\n",
    "    import matplotlib.pyplot as plt\n",
    "    def __init__(self, data):\n",
    "        self.dataframe = data\n",
    "        \n",
    "    def scatterplot(self, data1, data2, xlabel=None, ylabel=None):\n",
    "        plt.figure(figsize=(10,6))\n",
    "        plt.scatter(data1, data2)\n",
    "        plt.xlabel(xlabel)\n",
    "        plt.ylabel(ylabel)\n",
    "        plt.show()\n",
    "\n",
    "    def histogram(self, data):\n",
    "        sns.distplot(data)\n",
    "        plt.show()       "
   ]
  },
  {
   "cell_type": "code",
   "execution_count": 116,
   "metadata": {},
   "outputs": [],
   "source": [
    "\n"
   ]
  },
  {
   "cell_type": "code",
   "execution_count": null,
   "metadata": {},
   "outputs": [],
   "source": []
  },
  {
   "cell_type": "code",
   "execution_count": null,
   "metadata": {},
   "outputs": [],
   "source": []
  },
  {
   "cell_type": "code",
   "execution_count": null,
   "metadata": {},
   "outputs": [],
   "source": []
  },
  {
   "cell_type": "code",
   "execution_count": null,
   "metadata": {},
   "outputs": [],
   "source": []
  }
 ],
 "metadata": {
  "kernelspec": {
   "display_name": "Python 3",
   "language": "python",
   "name": "python3"
  },
  "language_info": {
   "codemirror_mode": {
    "name": "ipython",
    "version": 3
   },
   "file_extension": ".py",
   "mimetype": "text/x-python",
   "name": "python",
   "nbconvert_exporter": "python",
   "pygments_lexer": "ipython3",
   "version": "3.7.6"
  }
 },
 "nbformat": 4,
 "nbformat_minor": 4
}
